{
 "cells": [
  {
   "cell_type": "code",
   "execution_count": 1,
   "outputs": [
    {
     "name": "stderr",
     "output_type": "stream",
     "text": [
      "C:\\Users\\zhang\\AppData\\Local\\Temp\\ipykernel_2880\\2159192306.py:35: FutureWarning: The frame.append method is deprecated and will be removed from pandas in a future version. Use pandas.concat instead.\n",
      "  all_data = all_data.append(pd.DataFrame(data), ignore_index=True)\n"
     ]
    },
    {
     "name": "stdout",
     "output_type": "stream",
     "text": [
      "                  0               1               2               3   \\\n",
      "0      1569225600000   9930.13000000   9930.13000000   9930.13000000   \n",
      "1      1569243600000   9930.13000000   9930.13000000   9930.13000000   \n",
      "2      1569247200000   9930.13000000   9930.13000000   9930.13000000   \n",
      "3      1569250800000   9930.13000000   9930.13000000   9930.13000000   \n",
      "4      1569254400000   9930.13000000   9930.13000000   9930.13000000   \n",
      "...              ...             ...             ...             ...   \n",
      "35995  1698969600000  34945.31000000  34947.97000000  34550.00000000   \n",
      "35996  1698973200000  34577.29000000  34627.48000000  34500.00000000   \n",
      "35997  1698976800000  34608.61000000  34717.00000000  34575.77000000   \n",
      "35998  1698980400000  34670.47000000  34706.42000000  34649.02000000   \n",
      "35999  1698984000000  34690.07000000  34706.67000000  34333.00000000   \n",
      "\n",
      "                   4            5              6                7     8   \\\n",
      "0       9930.13000000   0.00100000  1569229037115       9.93013000     1   \n",
      "1       9930.13000000   0.00000000  1569247199999       0.00000000     0   \n",
      "2       9930.13000000   0.00000000  1569250799999       0.00000000     0   \n",
      "3       9930.13000000   0.00000000  1569254399999       0.00000000     0   \n",
      "4       9930.13000000   0.00000000  1569257999999       0.00000000     0   \n",
      "...               ...          ...            ...              ...   ...   \n",
      "35995  34577.31000000  15.30782000  1698973199999  531841.99412890  1386   \n",
      "35996  34600.44000000   7.94471000  1698976799999  274569.16841350  1238   \n",
      "35997  34682.35000000   2.95600000  1698980399999  102484.98431580   547   \n",
      "35998  34690.07000000   2.12253000  1698983999999   73606.79541900   325   \n",
      "35999  34352.80000000  12.67990000  1698987599999  437157.53192370   958   \n",
      "\n",
      "               9                10 11  \n",
      "0      0.00000000       0.00000000  0  \n",
      "1      0.00000000       0.00000000  0  \n",
      "2      0.00000000       0.00000000  0  \n",
      "3      0.00000000       0.00000000  0  \n",
      "4      0.00000000       0.00000000  0  \n",
      "...           ...              ... ..  \n",
      "35995  3.75610000  130623.11638030  0  \n",
      "35996  2.70166000   93441.84138580  0  \n",
      "35997  1.58752000   55052.17175630  0  \n",
      "35998  1.08763000   37725.15107610  0  \n",
      "35999  5.49359000  189268.21204460  0  \n",
      "\n",
      "[36000 rows x 12 columns]\n"
     ]
    }
   ],
   "source": [
    "import requests\n",
    "import pandas as pd\n",
    "import time\n",
    "\n",
    "# Define the endpoint URL\n",
    "url = \"https://api.binance.us/api/v3/klines\"\n",
    "\n",
    "# Initialize start and end times for the loop\n",
    "time_start = 1503014400 * 1000  # Convert to milliseconds\n",
    "time_end = 1698768000 * 1000  # Convert to milliseconds\n",
    "\n",
    "# Create an empty DataFrame to store the data\n",
    "all_data = pd.DataFrame()\n",
    "\n",
    "while time_start < time_end:\n",
    "    # Define the parameters for the API call\n",
    "    params = {\n",
    "        'symbol': 'BTCUSDT',  # Bitcoin data\n",
    "        'interval': '1h',  # 4-hour intervals\n",
    "        'startTime': time_start,  # Start time in milliseconds\n",
    "        'limit': 1000  # Maximum number of Klines to retrieve\n",
    "    }\n",
    "\n",
    "    # Make the GET request\n",
    "    response = requests.get(url, params=params)\n",
    "\n",
    "    # Convert the response to JSON\n",
    "    data = response.json()\n",
    "\n",
    "    # If no data is returned, break the loop\n",
    "    if not data:\n",
    "        break\n",
    "\n",
    "    # Convert the current batch of data to a DataFrame and append it to all_data\n",
    "    all_data = all_data.append(pd.DataFrame(data), ignore_index=True)\n",
    "\n",
    "    # Update time_start to the open time of the last kline plus one interval\n",
    "    last_open_time = data[-1][0]\n",
    "    time_start = last_open_time + (1 * 60 * 60 * 1000)  # 4 hours in milliseconds\n",
    "\n",
    "    # Safety sleep to avoid hitting API rate limits\n",
    "    time.sleep(0.5)  # Adjust the sleep time as necessary\n",
    "\n",
    "# Convert the timestamp to a readable date format (if necessary)\n",
    "# all_data[0] = pd.to_datetime(all_data[0], unit='ms')\n",
    "\n",
    "print(all_data)"
   ],
   "metadata": {
    "collapsed": false,
    "ExecuteTime": {
     "end_time": "2023-11-08T10:47:59.392937600Z",
     "start_time": "2023-11-08T10:46:58.796251700Z"
    }
   },
   "id": "d73968ff1f330cfa"
  },
  {
   "cell_type": "code",
   "execution_count": 2,
   "outputs": [],
   "source": [
    "# convert all_data date columns to real time format\n",
    "all_data[0] = pd.to_datetime(all_data[0], unit='ms')\n",
    "# save all_data to csv\n",
    "all_data.to_csv('btcusdt_1h.csv', index=False)"
   ],
   "metadata": {
    "collapsed": false,
    "ExecuteTime": {
     "end_time": "2023-11-08T10:48:02.548177700Z",
     "start_time": "2023-11-08T10:48:02.306445700Z"
    }
   },
   "id": "c12de78dea168d3c"
  },
  {
   "cell_type": "code",
   "execution_count": null,
   "outputs": [],
   "source": [],
   "metadata": {
    "collapsed": false
   },
   "id": "dedb94aee7a3d0ca"
  }
 ],
 "metadata": {
  "kernelspec": {
   "display_name": "Python 3",
   "language": "python",
   "name": "python3"
  },
  "language_info": {
   "codemirror_mode": {
    "name": "ipython",
    "version": 2
   },
   "file_extension": ".py",
   "mimetype": "text/x-python",
   "name": "python",
   "nbconvert_exporter": "python",
   "pygments_lexer": "ipython2",
   "version": "2.7.6"
  }
 },
 "nbformat": 4,
 "nbformat_minor": 5
}
