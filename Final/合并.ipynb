{
 "cells": [
  {
   "cell_type": "code",
   "execution_count": 5,
   "id": "initial_id",
   "metadata": {
    "collapsed": true,
    "ExecuteTime": {
     "end_time": "2023-11-25T05:00:10.859143Z",
     "start_time": "2023-11-25T05:00:00.686880Z"
    }
   },
   "outputs": [],
   "source": [
    "import pandas as pd\n",
    "\n",
    "df1 = pd.read_csv('Result.csv')\n",
    "\n",
    "df2 = pd.read_csv('balanced_twitter_btc_big_clean.csv', lineterminator='\\n')"
   ]
  },
  {
   "cell_type": "code",
   "execution_count": 6,
   "outputs": [],
   "source": [
    "df1['label'] = df1['label'].replace({0: 1, 1: -1, 2: 0})"
   ],
   "metadata": {
    "collapsed": false,
    "ExecuteTime": {
     "end_time": "2023-11-25T05:00:10.862407Z",
     "start_time": "2023-11-25T05:00:10.860848Z"
    }
   },
   "id": "672c42e5be533168"
  },
  {
   "cell_type": "code",
   "execution_count": 7,
   "outputs": [
    {
     "data": {
      "text/plain": "              date                                               text  \\\ncount         5290                                               5290   \nunique         488                                               5290   \ntop     2021-06-11  DO NOT MISS this opportunity to mine FREE #cry...   \nfreq            13                                                  1   \nmean           NaN                                                NaN   \nstd            NaN                                                NaN   \nmin            NaN                                                NaN   \n25%            NaN                                                NaN   \n50%            NaN                                                NaN   \n75%            NaN                                                NaN   \nmax            NaN                                                NaN   \n\n       hard_cleaned_text        label  \ncount               5282  5290.000000  \nunique              5196          NaN  \ntop                  fix          NaN  \nfreq                   7          NaN  \nmean                 NaN     0.002836  \nstd                  NaN     0.210770  \nmin                  NaN    -1.000000  \n25%                  NaN     0.000000  \n50%                  NaN     0.000000  \n75%                  NaN     0.000000  \nmax                  NaN     1.000000  ",
      "text/html": "<div>\n<style scoped>\n    .dataframe tbody tr th:only-of-type {\n        vertical-align: middle;\n    }\n\n    .dataframe tbody tr th {\n        vertical-align: top;\n    }\n\n    .dataframe thead th {\n        text-align: right;\n    }\n</style>\n<table border=\"1\" class=\"dataframe\">\n  <thead>\n    <tr style=\"text-align: right;\">\n      <th></th>\n      <th>date</th>\n      <th>text</th>\n      <th>hard_cleaned_text</th>\n      <th>label</th>\n    </tr>\n  </thead>\n  <tbody>\n    <tr>\n      <th>count</th>\n      <td>5290</td>\n      <td>5290</td>\n      <td>5282</td>\n      <td>5290.000000</td>\n    </tr>\n    <tr>\n      <th>unique</th>\n      <td>488</td>\n      <td>5290</td>\n      <td>5196</td>\n      <td>NaN</td>\n    </tr>\n    <tr>\n      <th>top</th>\n      <td>2021-06-11</td>\n      <td>DO NOT MISS this opportunity to mine FREE #cry...</td>\n      <td>fix</td>\n      <td>NaN</td>\n    </tr>\n    <tr>\n      <th>freq</th>\n      <td>13</td>\n      <td>1</td>\n      <td>7</td>\n      <td>NaN</td>\n    </tr>\n    <tr>\n      <th>mean</th>\n      <td>NaN</td>\n      <td>NaN</td>\n      <td>NaN</td>\n      <td>0.002836</td>\n    </tr>\n    <tr>\n      <th>std</th>\n      <td>NaN</td>\n      <td>NaN</td>\n      <td>NaN</td>\n      <td>0.210770</td>\n    </tr>\n    <tr>\n      <th>min</th>\n      <td>NaN</td>\n      <td>NaN</td>\n      <td>NaN</td>\n      <td>-1.000000</td>\n    </tr>\n    <tr>\n      <th>25%</th>\n      <td>NaN</td>\n      <td>NaN</td>\n      <td>NaN</td>\n      <td>0.000000</td>\n    </tr>\n    <tr>\n      <th>50%</th>\n      <td>NaN</td>\n      <td>NaN</td>\n      <td>NaN</td>\n      <td>0.000000</td>\n    </tr>\n    <tr>\n      <th>75%</th>\n      <td>NaN</td>\n      <td>NaN</td>\n      <td>NaN</td>\n      <td>0.000000</td>\n    </tr>\n    <tr>\n      <th>max</th>\n      <td>NaN</td>\n      <td>NaN</td>\n      <td>NaN</td>\n      <td>1.000000</td>\n    </tr>\n  </tbody>\n</table>\n</div>"
     },
     "execution_count": 7,
     "metadata": {},
     "output_type": "execute_result"
    }
   ],
   "source": [
    "df1.describe(include='all')"
   ],
   "metadata": {
    "collapsed": false,
    "ExecuteTime": {
     "end_time": "2023-11-25T05:00:10.876220Z",
     "start_time": "2023-11-25T05:00:10.863236Z"
    }
   },
   "id": "4d1a6e336454dac0"
  },
  {
   "cell_type": "code",
   "execution_count": 8,
   "outputs": [
    {
     "data": {
      "text/plain": "              date                                               text  \\\ncount      3540245                                            3540245   \nunique         267                                            3469981   \ntop     2022-01-22  Do you know #BMoney was an idea in 1998 before...   \nfreq         54368                                                703   \nmean           NaN                                                NaN   \nstd            NaN                                                NaN   \nmin            NaN                                                NaN   \n25%            NaN                                                NaN   \n50%            NaN                                                NaN   \n75%            NaN                                                NaN   \nmax            NaN                                                NaN   \n\n                                        hard_cleaned_text         label  \ncount                                             3540245  3.540245e+06  \nunique                                            2789269           NaN  \ntop     current cardano price alert ada usd bitcoin bt...           NaN  \nfreq                                                17377           NaN  \nmean                                                  NaN  4.198393e-01  \nstd                                                   NaN  7.665063e-01  \nmin                                                   NaN -1.000000e+00  \n25%                                                   NaN  0.000000e+00  \n50%                                                   NaN  1.000000e+00  \n75%                                                   NaN  1.000000e+00  \nmax                                                   NaN  1.000000e+00  ",
      "text/html": "<div>\n<style scoped>\n    .dataframe tbody tr th:only-of-type {\n        vertical-align: middle;\n    }\n\n    .dataframe tbody tr th {\n        vertical-align: top;\n    }\n\n    .dataframe thead th {\n        text-align: right;\n    }\n</style>\n<table border=\"1\" class=\"dataframe\">\n  <thead>\n    <tr style=\"text-align: right;\">\n      <th></th>\n      <th>date</th>\n      <th>text</th>\n      <th>hard_cleaned_text</th>\n      <th>label</th>\n    </tr>\n  </thead>\n  <tbody>\n    <tr>\n      <th>count</th>\n      <td>3540245</td>\n      <td>3540245</td>\n      <td>3540245</td>\n      <td>3.540245e+06</td>\n    </tr>\n    <tr>\n      <th>unique</th>\n      <td>267</td>\n      <td>3469981</td>\n      <td>2789269</td>\n      <td>NaN</td>\n    </tr>\n    <tr>\n      <th>top</th>\n      <td>2022-01-22</td>\n      <td>Do you know #BMoney was an idea in 1998 before...</td>\n      <td>current cardano price alert ada usd bitcoin bt...</td>\n      <td>NaN</td>\n    </tr>\n    <tr>\n      <th>freq</th>\n      <td>54368</td>\n      <td>703</td>\n      <td>17377</td>\n      <td>NaN</td>\n    </tr>\n    <tr>\n      <th>mean</th>\n      <td>NaN</td>\n      <td>NaN</td>\n      <td>NaN</td>\n      <td>4.198393e-01</td>\n    </tr>\n    <tr>\n      <th>std</th>\n      <td>NaN</td>\n      <td>NaN</td>\n      <td>NaN</td>\n      <td>7.665063e-01</td>\n    </tr>\n    <tr>\n      <th>min</th>\n      <td>NaN</td>\n      <td>NaN</td>\n      <td>NaN</td>\n      <td>-1.000000e+00</td>\n    </tr>\n    <tr>\n      <th>25%</th>\n      <td>NaN</td>\n      <td>NaN</td>\n      <td>NaN</td>\n      <td>0.000000e+00</td>\n    </tr>\n    <tr>\n      <th>50%</th>\n      <td>NaN</td>\n      <td>NaN</td>\n      <td>NaN</td>\n      <td>1.000000e+00</td>\n    </tr>\n    <tr>\n      <th>75%</th>\n      <td>NaN</td>\n      <td>NaN</td>\n      <td>NaN</td>\n      <td>1.000000e+00</td>\n    </tr>\n    <tr>\n      <th>max</th>\n      <td>NaN</td>\n      <td>NaN</td>\n      <td>NaN</td>\n      <td>1.000000e+00</td>\n    </tr>\n  </tbody>\n</table>\n</div>"
     },
     "execution_count": 8,
     "metadata": {},
     "output_type": "execute_result"
    }
   ],
   "source": [
    "df2.describe(include='all')"
   ],
   "metadata": {
    "collapsed": false,
    "ExecuteTime": {
     "end_time": "2023-11-25T05:00:14.448720Z",
     "start_time": "2023-11-25T05:00:10.945524Z"
    }
   },
   "id": "90819ea4a70dd1df"
  },
  {
   "cell_type": "code",
   "execution_count": 9,
   "outputs": [
    {
     "data": {
      "text/plain": " 0    5055\n 1     125\n-1     110\nName: label, dtype: int64"
     },
     "execution_count": 9,
     "metadata": {},
     "output_type": "execute_result"
    }
   ],
   "source": [
    "df1['label'].value_counts()"
   ],
   "metadata": {
    "collapsed": false,
    "ExecuteTime": {
     "end_time": "2023-11-25T05:00:14.451095Z",
     "start_time": "2023-11-25T05:00:14.448202Z"
    }
   },
   "id": "1c429ed22d4eb4be"
  },
  {
   "cell_type": "code",
   "execution_count": 10,
   "outputs": [
    {
     "data": {
      "text/plain": " 1    2095181\n 0     836217\n-1     608847\nName: label, dtype: int64"
     },
     "execution_count": 10,
     "metadata": {},
     "output_type": "execute_result"
    }
   ],
   "source": [
    "df2['label'].value_counts()"
   ],
   "metadata": {
    "collapsed": false,
    "ExecuteTime": {
     "end_time": "2023-11-25T05:00:14.462585Z",
     "start_time": "2023-11-25T05:00:14.459885Z"
    }
   },
   "id": "84f5275049fe7b50"
  },
  {
   "cell_type": "code",
   "execution_count": 11,
   "outputs": [],
   "source": [
    "# 合并两个数据集\n",
    "df = pd.concat([df1, df2], ignore_index=True)"
   ],
   "metadata": {
    "collapsed": false,
    "ExecuteTime": {
     "end_time": "2023-11-25T05:00:32.782221Z",
     "start_time": "2023-11-25T05:00:32.778326Z"
    }
   },
   "id": "26c88dd04eaaa890"
  },
  {
   "cell_type": "code",
   "execution_count": 12,
   "outputs": [
    {
     "data": {
      "text/plain": "              date                                               text  \\\ncount      3545535                                            3545535   \nunique         705                                            3475238   \ntop     2022-01-22  Do you know #BMoney was an idea in 1998 before...   \nfreq         54368                                                703   \nmean           NaN                                                NaN   \nstd            NaN                                                NaN   \nmin            NaN                                                NaN   \n25%            NaN                                                NaN   \n50%            NaN                                                NaN   \n75%            NaN                                                NaN   \nmax            NaN                                                NaN   \n\n                                        hard_cleaned_text         label  \ncount                                             3545527  3.545535e+06  \nunique                                            2794455           NaN  \ntop     current cardano price alert ada usd bitcoin bt...           NaN  \nfreq                                                17377           NaN  \nmean                                                  NaN  4.192171e-01  \nstd                                                   NaN  7.661467e-01  \nmin                                                   NaN -1.000000e+00  \n25%                                                   NaN  0.000000e+00  \n50%                                                   NaN  1.000000e+00  \n75%                                                   NaN  1.000000e+00  \nmax                                                   NaN  1.000000e+00  ",
      "text/html": "<div>\n<style scoped>\n    .dataframe tbody tr th:only-of-type {\n        vertical-align: middle;\n    }\n\n    .dataframe tbody tr th {\n        vertical-align: top;\n    }\n\n    .dataframe thead th {\n        text-align: right;\n    }\n</style>\n<table border=\"1\" class=\"dataframe\">\n  <thead>\n    <tr style=\"text-align: right;\">\n      <th></th>\n      <th>date</th>\n      <th>text</th>\n      <th>hard_cleaned_text</th>\n      <th>label</th>\n    </tr>\n  </thead>\n  <tbody>\n    <tr>\n      <th>count</th>\n      <td>3545535</td>\n      <td>3545535</td>\n      <td>3545527</td>\n      <td>3.545535e+06</td>\n    </tr>\n    <tr>\n      <th>unique</th>\n      <td>705</td>\n      <td>3475238</td>\n      <td>2794455</td>\n      <td>NaN</td>\n    </tr>\n    <tr>\n      <th>top</th>\n      <td>2022-01-22</td>\n      <td>Do you know #BMoney was an idea in 1998 before...</td>\n      <td>current cardano price alert ada usd bitcoin bt...</td>\n      <td>NaN</td>\n    </tr>\n    <tr>\n      <th>freq</th>\n      <td>54368</td>\n      <td>703</td>\n      <td>17377</td>\n      <td>NaN</td>\n    </tr>\n    <tr>\n      <th>mean</th>\n      <td>NaN</td>\n      <td>NaN</td>\n      <td>NaN</td>\n      <td>4.192171e-01</td>\n    </tr>\n    <tr>\n      <th>std</th>\n      <td>NaN</td>\n      <td>NaN</td>\n      <td>NaN</td>\n      <td>7.661467e-01</td>\n    </tr>\n    <tr>\n      <th>min</th>\n      <td>NaN</td>\n      <td>NaN</td>\n      <td>NaN</td>\n      <td>-1.000000e+00</td>\n    </tr>\n    <tr>\n      <th>25%</th>\n      <td>NaN</td>\n      <td>NaN</td>\n      <td>NaN</td>\n      <td>0.000000e+00</td>\n    </tr>\n    <tr>\n      <th>50%</th>\n      <td>NaN</td>\n      <td>NaN</td>\n      <td>NaN</td>\n      <td>1.000000e+00</td>\n    </tr>\n    <tr>\n      <th>75%</th>\n      <td>NaN</td>\n      <td>NaN</td>\n      <td>NaN</td>\n      <td>1.000000e+00</td>\n    </tr>\n    <tr>\n      <th>max</th>\n      <td>NaN</td>\n      <td>NaN</td>\n      <td>NaN</td>\n      <td>1.000000e+00</td>\n    </tr>\n  </tbody>\n</table>\n</div>"
     },
     "execution_count": 12,
     "metadata": {},
     "output_type": "execute_result"
    }
   ],
   "source": [
    "df.describe(include='all')"
   ],
   "metadata": {
    "collapsed": false,
    "ExecuteTime": {
     "end_time": "2023-11-25T05:00:38.398316Z",
     "start_time": "2023-11-25T05:00:35.297155Z"
    }
   },
   "id": "d7f5c6cf6f6b5474"
  },
  {
   "cell_type": "code",
   "execution_count": 15,
   "outputs": [],
   "source": [
    "df.to_csv('Merged.csv', index=False)"
   ],
   "metadata": {
    "collapsed": false,
    "ExecuteTime": {
     "end_time": "2023-11-25T05:01:49.516068Z",
     "start_time": "2023-11-25T05:01:36.356076Z"
    }
   },
   "id": "150d3a2840e244be"
  },
  {
   "cell_type": "code",
   "execution_count": 17,
   "outputs": [],
   "source": [
    "drop_df = df.drop(columns=['text', 'hard_cleaned_text'])"
   ],
   "metadata": {
    "collapsed": false,
    "ExecuteTime": {
     "end_time": "2023-11-25T05:04:00.240600Z",
     "start_time": "2023-11-25T05:04:00.204938Z"
    }
   },
   "id": "d927bb3e20c3efe3"
  },
  {
   "cell_type": "code",
   "execution_count": 18,
   "outputs": [
    {
     "data": {
      "text/plain": "              date         label\ncount      3545535  3.545535e+06\nunique         705           NaN\ntop     2022-01-22           NaN\nfreq         54368           NaN\nmean           NaN  4.192171e-01\nstd            NaN  7.661467e-01\nmin            NaN -1.000000e+00\n25%            NaN  0.000000e+00\n50%            NaN  1.000000e+00\n75%            NaN  1.000000e+00\nmax            NaN  1.000000e+00",
      "text/html": "<div>\n<style scoped>\n    .dataframe tbody tr th:only-of-type {\n        vertical-align: middle;\n    }\n\n    .dataframe tbody tr th {\n        vertical-align: top;\n    }\n\n    .dataframe thead th {\n        text-align: right;\n    }\n</style>\n<table border=\"1\" class=\"dataframe\">\n  <thead>\n    <tr style=\"text-align: right;\">\n      <th></th>\n      <th>date</th>\n      <th>label</th>\n    </tr>\n  </thead>\n  <tbody>\n    <tr>\n      <th>count</th>\n      <td>3545535</td>\n      <td>3.545535e+06</td>\n    </tr>\n    <tr>\n      <th>unique</th>\n      <td>705</td>\n      <td>NaN</td>\n    </tr>\n    <tr>\n      <th>top</th>\n      <td>2022-01-22</td>\n      <td>NaN</td>\n    </tr>\n    <tr>\n      <th>freq</th>\n      <td>54368</td>\n      <td>NaN</td>\n    </tr>\n    <tr>\n      <th>mean</th>\n      <td>NaN</td>\n      <td>4.192171e-01</td>\n    </tr>\n    <tr>\n      <th>std</th>\n      <td>NaN</td>\n      <td>7.661467e-01</td>\n    </tr>\n    <tr>\n      <th>min</th>\n      <td>NaN</td>\n      <td>-1.000000e+00</td>\n    </tr>\n    <tr>\n      <th>25%</th>\n      <td>NaN</td>\n      <td>0.000000e+00</td>\n    </tr>\n    <tr>\n      <th>50%</th>\n      <td>NaN</td>\n      <td>1.000000e+00</td>\n    </tr>\n    <tr>\n      <th>75%</th>\n      <td>NaN</td>\n      <td>1.000000e+00</td>\n    </tr>\n    <tr>\n      <th>max</th>\n      <td>NaN</td>\n      <td>1.000000e+00</td>\n    </tr>\n  </tbody>\n</table>\n</div>"
     },
     "execution_count": 18,
     "metadata": {},
     "output_type": "execute_result"
    }
   ],
   "source": [
    "drop_df.describe(include='all')"
   ],
   "metadata": {
    "collapsed": false,
    "ExecuteTime": {
     "end_time": "2023-11-25T05:04:04.690679Z",
     "start_time": "2023-11-25T05:04:04.586716Z"
    }
   },
   "id": "d7196187a99a26e4"
  },
  {
   "cell_type": "code",
   "execution_count": 19,
   "outputs": [
    {
     "data": {
      "text/plain": "           date     label\n0    2021-02-05  0.355109\n1    2021-02-06  0.371441\n2    2021-02-07  0.404031\n3    2021-02-08  0.432709\n4    2021-02-09  0.373221\n..          ...       ...\n700  2023-01-06  0.310392\n701  2023-01-07  0.294823\n702  2023-01-08  0.299228\n703  2023-01-09  0.312214\n704  2023-01-10  0.208226\n\n[705 rows x 2 columns]",
      "text/html": "<div>\n<style scoped>\n    .dataframe tbody tr th:only-of-type {\n        vertical-align: middle;\n    }\n\n    .dataframe tbody tr th {\n        vertical-align: top;\n    }\n\n    .dataframe thead th {\n        text-align: right;\n    }\n</style>\n<table border=\"1\" class=\"dataframe\">\n  <thead>\n    <tr style=\"text-align: right;\">\n      <th></th>\n      <th>date</th>\n      <th>label</th>\n    </tr>\n  </thead>\n  <tbody>\n    <tr>\n      <th>0</th>\n      <td>2021-02-05</td>\n      <td>0.355109</td>\n    </tr>\n    <tr>\n      <th>1</th>\n      <td>2021-02-06</td>\n      <td>0.371441</td>\n    </tr>\n    <tr>\n      <th>2</th>\n      <td>2021-02-07</td>\n      <td>0.404031</td>\n    </tr>\n    <tr>\n      <th>3</th>\n      <td>2021-02-08</td>\n      <td>0.432709</td>\n    </tr>\n    <tr>\n      <th>4</th>\n      <td>2021-02-09</td>\n      <td>0.373221</td>\n    </tr>\n    <tr>\n      <th>...</th>\n      <td>...</td>\n      <td>...</td>\n    </tr>\n    <tr>\n      <th>700</th>\n      <td>2023-01-06</td>\n      <td>0.310392</td>\n    </tr>\n    <tr>\n      <th>701</th>\n      <td>2023-01-07</td>\n      <td>0.294823</td>\n    </tr>\n    <tr>\n      <th>702</th>\n      <td>2023-01-08</td>\n      <td>0.299228</td>\n    </tr>\n    <tr>\n      <th>703</th>\n      <td>2023-01-09</td>\n      <td>0.312214</td>\n    </tr>\n    <tr>\n      <th>704</th>\n      <td>2023-01-10</td>\n      <td>0.208226</td>\n    </tr>\n  </tbody>\n</table>\n<p>705 rows × 2 columns</p>\n</div>"
     },
     "execution_count": 19,
     "metadata": {},
     "output_type": "execute_result"
    }
   ],
   "source": [
    "emotion_scores = drop_df.groupby('date')['label'].mean().reset_index()\n",
    "emotion_scores"
   ],
   "metadata": {
    "collapsed": false,
    "ExecuteTime": {
     "end_time": "2023-11-25T05:05:11.603427Z",
     "start_time": "2023-11-25T05:05:11.480241Z"
    }
   },
   "id": "91134dbd590c4b42"
  },
  {
   "cell_type": "code",
   "execution_count": 20,
   "outputs": [],
   "source": [
    "emotion_scores.to_csv('emotion_scores.csv', index=False)"
   ],
   "metadata": {
    "collapsed": false,
    "ExecuteTime": {
     "end_time": "2023-11-25T05:05:55.577721Z",
     "start_time": "2023-11-25T05:05:55.568824Z"
    }
   },
   "id": "bb17874c2c9547b8"
  },
  {
   "cell_type": "code",
   "execution_count": null,
   "outputs": [],
   "source": [],
   "metadata": {
    "collapsed": false
   },
   "id": "8f690ec43c67b50a"
  }
 ],
 "metadata": {
  "kernelspec": {
   "display_name": "Python 3",
   "language": "python",
   "name": "python3"
  },
  "language_info": {
   "codemirror_mode": {
    "name": "ipython",
    "version": 2
   },
   "file_extension": ".py",
   "mimetype": "text/x-python",
   "name": "python",
   "nbconvert_exporter": "python",
   "pygments_lexer": "ipython2",
   "version": "2.7.6"
  }
 },
 "nbformat": 4,
 "nbformat_minor": 5
}
