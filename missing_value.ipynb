{
 "cells": [
  {
   "cell_type": "code",
   "execution_count": 10,
   "outputs": [
    {
     "data": {
      "text/plain": "DatetimeIndex(['2017-09-06 17:00:00', '2017-09-06 18:00:00',\n               '2017-09-06 19:00:00', '2017-09-06 20:00:00',\n               '2017-09-06 21:00:00', '2017-09-06 22:00:00',\n               '2018-01-04 04:00:00', '2018-02-08 01:00:00',\n               '2018-02-08 02:00:00', '2018-02-08 03:00:00',\n               ...\n               '2021-04-25 05:00:00', '2021-04-25 06:00:00',\n               '2021-04-25 07:00:00', '2021-08-13 02:00:00',\n               '2021-08-13 03:00:00', '2021-08-13 04:00:00',\n               '2021-08-13 05:00:00', '2021-09-29 07:00:00',\n               '2021-09-29 08:00:00', '2023-03-24 13:00:00'],\n              dtype='datetime64[ns]', length=128, freq=None)"
     },
     "execution_count": 10,
     "metadata": {},
     "output_type": "execute_result"
    }
   ],
   "source": [
    "import pandas as pd\n",
    "\n",
    "# 读取CSV文件\n",
    "df = pd.read_csv('merged_data_timestamp.csv')\n",
    "\n",
    "# 将时间戳列转换为日期时间类型\n",
    "df['开盘时间'] = pd.to_datetime(df['开盘时间'], unit='ms')\n",
    "\n",
    "# 创建一个包含所有可能的时间戳的日期范围\n",
    "start_time = pd.to_datetime(1502942400000, unit='ms')\n",
    "end_time = pd.to_datetime(1699398000000, unit='ms')\n",
    "all_times = pd.date_range(start_time, end_time, freq='1H')\n",
    "\n",
    "# 找出缺失的数据时间\n",
    "missing_times = all_times[~all_times.isin(df['开盘时间'])]\n",
    "\n",
    "# 打印缺失的数据时间\n",
    "missing_times"
   ],
   "metadata": {
    "collapsed": false,
    "ExecuteTime": {
     "end_time": "2023-11-08T11:28:38.296527Z",
     "start_time": "2023-11-08T11:28:38.235810Z"
    }
   },
   "id": "23d137949c9f190f"
  },
  {
   "cell_type": "code",
   "execution_count": null,
   "outputs": [],
   "source": [],
   "metadata": {
    "collapsed": false
   },
   "id": "c62c500a126bec01"
  }
 ],
 "metadata": {
  "kernelspec": {
   "display_name": "Python 3",
   "language": "python",
   "name": "python3"
  },
  "language_info": {
   "codemirror_mode": {
    "name": "ipython",
    "version": 2
   },
   "file_extension": ".py",
   "mimetype": "text/x-python",
   "name": "python",
   "nbconvert_exporter": "python",
   "pygments_lexer": "ipython2",
   "version": "2.7.6"
  }
 },
 "nbformat": 4,
 "nbformat_minor": 5
}
