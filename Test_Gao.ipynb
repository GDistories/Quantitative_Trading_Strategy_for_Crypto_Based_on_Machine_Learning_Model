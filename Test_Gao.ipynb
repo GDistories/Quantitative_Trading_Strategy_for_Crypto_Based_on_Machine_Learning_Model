{
 "cells": [
  {
   "cell_type": "code",
   "execution_count": 5,
   "id": "initial_id",
   "metadata": {
    "collapsed": true,
    "ExecuteTime": {
     "end_time": "2023-11-14T00:42:02.781757Z",
     "start_time": "2023-11-14T00:42:02.692621Z"
    }
   },
   "outputs": [],
   "source": [
    "import pandas as pd\n",
    "from sklearn.preprocessing import MinMaxScaler\n",
    "import numpy as np\n",
    "from keras.models import Sequential\n",
    "from keras.layers import LSTM, Dense, Dropout\n",
    "\n",
    "df = pd.read_csv('merged_data_datetime.csv')\n",
    "df['开盘时间'] = pd.to_datetime(df['开盘时间'])\n",
    "\n",
    "# Data scaling\n",
    "scaler = MinMaxScaler(feature_range=(0, 1))\n",
    "df_scaled = scaler.fit_transform(df['收盘价'].values.reshape(-1,1))\n",
    "look_back = 100\n",
    "def create_dataset(data, look_back):\n",
    "    X, Y = [], []\n",
    "    for i in range(len(data) - look_back):\n",
    "        X.append(data[i:(i + look_back), 0])\n",
    "        Y.append(data[i + look_back, 0])\n",
    "    return np.array(X), np.array(Y)\n",
    "\n",
    "X, Y = create_dataset(df_scaled, look_back)\n",
    "\n",
    "# partitioned data set\n",
    "train_size = int(len(X) * 0.8)\n",
    "test_size = len(X) - train_size\n",
    "trainX, testX = X[:train_size], X[train_size:]\n",
    "trainY, testY = Y[:train_size], Y[train_size:]\n",
    "\n",
    "# Reshaping input data to adapt to LSTM networks\n",
    "trainX = trainX.reshape((trainX.shape[0], trainX.shape[1], 1))\n",
    "testX = testX.reshape((testX.shape[0], testX.shape[1], 1))"
   ]
  },
  {
   "cell_type": "code",
   "execution_count": 6,
   "outputs": [],
   "source": [
    "# LSTM Model Definition\n",
    "model = Sequential()\n",
    "model.add(LSTM(60, return_sequences=True, input_shape=(look_back, 1)))\n",
    "model.add(Dropout(0.2))\n",
    "model.add(LSTM(80, return_sequences=True))\n",
    "model.add(Dropout(0.2))\n",
    "model.add(LSTM(120, return_sequences=False))\n",
    "model.add(Dropout(0.2))\n",
    "model.add(Dense(1, activation='sigmoid'))\n",
    "\n",
    "model.compile(optimizer='adam', loss='mean_squared_error')\n"
   ],
   "metadata": {
    "collapsed": false,
    "ExecuteTime": {
     "end_time": "2023-11-14T00:42:03.598268Z",
     "start_time": "2023-11-14T00:42:03.393127Z"
    }
   },
   "id": "667cfa42fdbe513d"
  },
  {
   "cell_type": "code",
   "execution_count": null,
   "outputs": [
    {
     "name": "stdout",
     "output_type": "stream",
     "text": [
      "Epoch 1/10\n",
      "1359/1359 [==============================] - 116s 84ms/step - loss: 0.0014\n",
      "Epoch 2/10\n",
      "1359/1359 [==============================] - 116s 85ms/step - loss: 2.3857e-04\n",
      "Epoch 3/10\n",
      "1359/1359 [==============================] - 117s 86ms/step - loss: 2.0875e-04\n",
      "Epoch 4/10\n",
      " 940/1359 [===================>..........] - ETA: 35s - loss: 1.9370e-04"
     ]
    }
   ],
   "source": [
    "model.fit(trainX, trainY, epochs=10, batch_size=32)"
   ],
   "metadata": {
    "collapsed": false,
    "is_executing": true,
    "ExecuteTime": {
     "start_time": "2023-11-14T00:42:04.993223Z"
    }
   },
   "id": "8c27ce01cd2f7701"
  },
  {
   "cell_type": "code",
   "execution_count": null,
   "outputs": [],
   "source": [
    "from sklearn.metrics import mean_squared_error\n",
    "\n",
    "# Predicting with the LSTM model in the test dataset\n",
    "test_predicted = model.predict(testX)\n",
    "\n",
    "# Rescaling the predicted values back to the original prices\n",
    "test_predicted_actual = scaler.inverse_transform(test_predicted)\n",
    "testY_actual = scaler.inverse_transform(testY.reshape(-1, 1))\n",
    "\n",
    "# Calculating the Mean Squared Error\n",
    "mse = mean_squared_error(testY_actual, test_predicted_actual)\n",
    "print(f'Mean Squared Error: {mse}')\n",
    "\n",
    "# Calculating the MAPE\n",
    "mape = np.mean(np.abs(test_predicted_actual - testY_actual)/np.abs(testY_actual))\n",
    "print(f'Mean Absolute Percentage Error: {mape}')"
   ],
   "metadata": {
    "collapsed": false
   },
   "id": "ed0366fe0ee08a3"
  },
  {
   "cell_type": "code",
   "execution_count": null,
   "outputs": [],
   "source": [
    "import matplotlib.pyplot as plt\n",
    "# Plotting the comparison between actual and predicted prices\n",
    "plt.figure(figsize=(10,6))\n",
    "plt.plot(testY_actual, label='Actual Prices')\n",
    "plt.plot(test_predicted_actual, label='Predicted Prices', alpha=0.7)\n",
    "plt.title('Comparison of Actual and Predicted Prices')\n",
    "plt.xlabel('Time')\n",
    "plt.ylabel('Price')\n",
    "plt.legend()\n",
    "plt.show()"
   ],
   "metadata": {
    "collapsed": false
   },
   "id": "5114d48fa4175060"
  }
 ],
 "metadata": {
  "kernelspec": {
   "display_name": "Python 3",
   "language": "python",
   "name": "python3"
  },
  "language_info": {
   "codemirror_mode": {
    "name": "ipython",
    "version": 2
   },
   "file_extension": ".py",
   "mimetype": "text/x-python",
   "name": "python",
   "nbconvert_exporter": "python",
   "pygments_lexer": "ipython2",
   "version": "2.7.6"
  }
 },
 "nbformat": 4,
 "nbformat_minor": 5
}
