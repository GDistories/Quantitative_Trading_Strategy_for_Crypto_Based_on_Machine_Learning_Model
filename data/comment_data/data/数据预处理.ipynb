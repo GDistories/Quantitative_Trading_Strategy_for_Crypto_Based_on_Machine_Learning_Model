{
 "cells": [
  {
   "cell_type": "code",
   "execution_count": 1,
   "outputs": [],
   "source": [
    "import pandas as pd\n",
    "\n",
    "df1 = pd.read_csv('balanced_twitter_btc_big.csv',lineterminator='\\n')"
   ],
   "metadata": {
    "collapsed": false,
    "ExecuteTime": {
     "end_time": "2023-11-25T03:44:33.203320Z",
     "start_time": "2023-11-25T03:44:17.014030Z"
    }
   },
   "id": "initial_id"
  },
  {
   "cell_type": "code",
   "execution_count": 2,
   "outputs": [
    {
     "data": {
      "text/plain": "        user_followers  user_verified                 date  \\\ncount     3.540245e+06   3.540245e+06              3540245   \nunique             NaN            NaN                 4084   \ntop                NaN            NaN  2021-10-19 20:00:00   \nfreq               NaN            NaN                 4110   \nmean      9.631299e+03   9.207837e-03                  NaN   \nstd       1.116223e+05   9.551469e-02                  NaN   \nmin       1.000000e+01   0.000000e+00                  NaN   \n25%       7.800000e+01   0.000000e+00                  NaN   \n50%       3.010000e+02   0.000000e+00                  NaN   \n75%       1.724000e+03   0.000000e+00                  NaN   \nmax       2.413135e+07   1.000000e+00                  NaN   \n\n                                                     text  \\\ncount                                             3540245   \nunique                                            3469981   \ntop     Do you know #BMoney was an idea in 1998 before...   \nfreq                                                  703   \nmean                                                  NaN   \nstd                                                   NaN   \nmin                                                   NaN   \n25%                                                   NaN   \n50%                                                   NaN   \n75%                                                   NaN   \nmax                                                   NaN   \n\n                                        hard_cleaned_text  \\\ncount                                             3540245   \nunique                                            2789269   \ntop     current cardano price alert ada usd bitcoin bt...   \nfreq                                                17377   \nmean                                                  NaN   \nstd                                                   NaN   \nmin                                                   NaN   \n25%                                                   NaN   \n50%                                                   NaN   \n75%                                                   NaN   \nmax                                                   NaN   \n\n                                        soft_cleaned_text  vader_sentiment  \\\ncount                                             3540217     3.540245e+06   \nunique                                            2872152              NaN   \ntop     BTC Derivs Sheet (Tweet every 15 min.) CME Del...              NaN   \nfreq                                                 8751              NaN   \nmean                                                  NaN     2.622725e-01   \nstd                                                   NaN     4.359499e-01   \nmin                                                   NaN    -9.973000e-01   \n25%                                                   NaN     0.000000e+00   \n50%                                                   NaN     2.960000e-01   \n75%                                                   NaN     6.249000e-01   \nmax                                                   NaN     9.967000e-01   \n\n        afinn_sentiment     sentiment         label  \ncount      3.540245e+06  3.540245e+06  3.540245e+06  \nunique              NaN           NaN           NaN  \ntop                 NaN           NaN           NaN  \nfreq                NaN           NaN           NaN  \nmean       2.753903e-01  2.701432e-01  5.801607e-01  \nstd        6.085348e-02  2.044389e-01  7.665063e-01  \nmin       -1.000000e+00 -9.984800e-01  0.000000e+00  \n25%        2.478632e-01  1.487179e-01  0.000000e+00  \n50%        2.649573e-01  2.759979e-01  0.000000e+00  \n75%        2.991453e-01  4.241036e-01  1.000000e+00  \nmax        1.000000e+00  9.974400e-01  2.000000e+00  ",
      "text/html": "<div>\n<style scoped>\n    .dataframe tbody tr th:only-of-type {\n        vertical-align: middle;\n    }\n\n    .dataframe tbody tr th {\n        vertical-align: top;\n    }\n\n    .dataframe thead th {\n        text-align: right;\n    }\n</style>\n<table border=\"1\" class=\"dataframe\">\n  <thead>\n    <tr style=\"text-align: right;\">\n      <th></th>\n      <th>user_followers</th>\n      <th>user_verified</th>\n      <th>date</th>\n      <th>text</th>\n      <th>hard_cleaned_text</th>\n      <th>soft_cleaned_text</th>\n      <th>vader_sentiment</th>\n      <th>afinn_sentiment</th>\n      <th>sentiment</th>\n      <th>label</th>\n    </tr>\n  </thead>\n  <tbody>\n    <tr>\n      <th>count</th>\n      <td>3.540245e+06</td>\n      <td>3.540245e+06</td>\n      <td>3540245</td>\n      <td>3540245</td>\n      <td>3540245</td>\n      <td>3540217</td>\n      <td>3.540245e+06</td>\n      <td>3.540245e+06</td>\n      <td>3.540245e+06</td>\n      <td>3.540245e+06</td>\n    </tr>\n    <tr>\n      <th>unique</th>\n      <td>NaN</td>\n      <td>NaN</td>\n      <td>4084</td>\n      <td>3469981</td>\n      <td>2789269</td>\n      <td>2872152</td>\n      <td>NaN</td>\n      <td>NaN</td>\n      <td>NaN</td>\n      <td>NaN</td>\n    </tr>\n    <tr>\n      <th>top</th>\n      <td>NaN</td>\n      <td>NaN</td>\n      <td>2021-10-19 20:00:00</td>\n      <td>Do you know #BMoney was an idea in 1998 before...</td>\n      <td>current cardano price alert ada usd bitcoin bt...</td>\n      <td>BTC Derivs Sheet (Tweet every 15 min.) CME Del...</td>\n      <td>NaN</td>\n      <td>NaN</td>\n      <td>NaN</td>\n      <td>NaN</td>\n    </tr>\n    <tr>\n      <th>freq</th>\n      <td>NaN</td>\n      <td>NaN</td>\n      <td>4110</td>\n      <td>703</td>\n      <td>17377</td>\n      <td>8751</td>\n      <td>NaN</td>\n      <td>NaN</td>\n      <td>NaN</td>\n      <td>NaN</td>\n    </tr>\n    <tr>\n      <th>mean</th>\n      <td>9.631299e+03</td>\n      <td>9.207837e-03</td>\n      <td>NaN</td>\n      <td>NaN</td>\n      <td>NaN</td>\n      <td>NaN</td>\n      <td>2.622725e-01</td>\n      <td>2.753903e-01</td>\n      <td>2.701432e-01</td>\n      <td>5.801607e-01</td>\n    </tr>\n    <tr>\n      <th>std</th>\n      <td>1.116223e+05</td>\n      <td>9.551469e-02</td>\n      <td>NaN</td>\n      <td>NaN</td>\n      <td>NaN</td>\n      <td>NaN</td>\n      <td>4.359499e-01</td>\n      <td>6.085348e-02</td>\n      <td>2.044389e-01</td>\n      <td>7.665063e-01</td>\n    </tr>\n    <tr>\n      <th>min</th>\n      <td>1.000000e+01</td>\n      <td>0.000000e+00</td>\n      <td>NaN</td>\n      <td>NaN</td>\n      <td>NaN</td>\n      <td>NaN</td>\n      <td>-9.973000e-01</td>\n      <td>-1.000000e+00</td>\n      <td>-9.984800e-01</td>\n      <td>0.000000e+00</td>\n    </tr>\n    <tr>\n      <th>25%</th>\n      <td>7.800000e+01</td>\n      <td>0.000000e+00</td>\n      <td>NaN</td>\n      <td>NaN</td>\n      <td>NaN</td>\n      <td>NaN</td>\n      <td>0.000000e+00</td>\n      <td>2.478632e-01</td>\n      <td>1.487179e-01</td>\n      <td>0.000000e+00</td>\n    </tr>\n    <tr>\n      <th>50%</th>\n      <td>3.010000e+02</td>\n      <td>0.000000e+00</td>\n      <td>NaN</td>\n      <td>NaN</td>\n      <td>NaN</td>\n      <td>NaN</td>\n      <td>2.960000e-01</td>\n      <td>2.649573e-01</td>\n      <td>2.759979e-01</td>\n      <td>0.000000e+00</td>\n    </tr>\n    <tr>\n      <th>75%</th>\n      <td>1.724000e+03</td>\n      <td>0.000000e+00</td>\n      <td>NaN</td>\n      <td>NaN</td>\n      <td>NaN</td>\n      <td>NaN</td>\n      <td>6.249000e-01</td>\n      <td>2.991453e-01</td>\n      <td>4.241036e-01</td>\n      <td>1.000000e+00</td>\n    </tr>\n    <tr>\n      <th>max</th>\n      <td>2.413135e+07</td>\n      <td>1.000000e+00</td>\n      <td>NaN</td>\n      <td>NaN</td>\n      <td>NaN</td>\n      <td>NaN</td>\n      <td>9.967000e-01</td>\n      <td>1.000000e+00</td>\n      <td>9.974400e-01</td>\n      <td>2.000000e+00</td>\n    </tr>\n  </tbody>\n</table>\n</div>"
     },
     "execution_count": 2,
     "metadata": {},
     "output_type": "execute_result"
    }
   ],
   "source": [
    "df1.describe(include='all')"
   ],
   "metadata": {
    "collapsed": false,
    "ExecuteTime": {
     "end_time": "2023-11-25T03:44:38.687969Z",
     "start_time": "2023-11-25T03:44:33.204771Z"
    }
   },
   "id": "1c0dcef3e0cd7c17"
  },
  {
   "cell_type": "code",
   "execution_count": 3,
   "outputs": [],
   "source": [
    "columns_to_drop = ['user_followers', 'user_verified', 'vader_sentiment', 'afinn_sentiment', 'sentiment', 'soft_cleaned_text']\n",
    "df = df1.drop(columns=columns_to_drop)"
   ],
   "metadata": {
    "collapsed": false,
    "ExecuteTime": {
     "end_time": "2023-11-25T03:44:38.765106Z",
     "start_time": "2023-11-25T03:44:38.688856Z"
    }
   },
   "id": "23ec7f2b6fc7f560"
  },
  {
   "cell_type": "code",
   "execution_count": 4,
   "outputs": [
    {
     "data": {
      "text/plain": "                       date  \\\ncount               3540245   \nunique                 4084   \ntop     2021-10-19 20:00:00   \nfreq                   4110   \nmean                    NaN   \nstd                     NaN   \nmin                     NaN   \n25%                     NaN   \n50%                     NaN   \n75%                     NaN   \nmax                     NaN   \n\n                                                     text  \\\ncount                                             3540245   \nunique                                            3469981   \ntop     Do you know #BMoney was an idea in 1998 before...   \nfreq                                                  703   \nmean                                                  NaN   \nstd                                                   NaN   \nmin                                                   NaN   \n25%                                                   NaN   \n50%                                                   NaN   \n75%                                                   NaN   \nmax                                                   NaN   \n\n                                        hard_cleaned_text         label  \ncount                                             3540245  3.540245e+06  \nunique                                            2789269           NaN  \ntop     current cardano price alert ada usd bitcoin bt...           NaN  \nfreq                                                17377           NaN  \nmean                                                  NaN  5.801607e-01  \nstd                                                   NaN  7.665063e-01  \nmin                                                   NaN  0.000000e+00  \n25%                                                   NaN  0.000000e+00  \n50%                                                   NaN  0.000000e+00  \n75%                                                   NaN  1.000000e+00  \nmax                                                   NaN  2.000000e+00  ",
      "text/html": "<div>\n<style scoped>\n    .dataframe tbody tr th:only-of-type {\n        vertical-align: middle;\n    }\n\n    .dataframe tbody tr th {\n        vertical-align: top;\n    }\n\n    .dataframe thead th {\n        text-align: right;\n    }\n</style>\n<table border=\"1\" class=\"dataframe\">\n  <thead>\n    <tr style=\"text-align: right;\">\n      <th></th>\n      <th>date</th>\n      <th>text</th>\n      <th>hard_cleaned_text</th>\n      <th>label</th>\n    </tr>\n  </thead>\n  <tbody>\n    <tr>\n      <th>count</th>\n      <td>3540245</td>\n      <td>3540245</td>\n      <td>3540245</td>\n      <td>3.540245e+06</td>\n    </tr>\n    <tr>\n      <th>unique</th>\n      <td>4084</td>\n      <td>3469981</td>\n      <td>2789269</td>\n      <td>NaN</td>\n    </tr>\n    <tr>\n      <th>top</th>\n      <td>2021-10-19 20:00:00</td>\n      <td>Do you know #BMoney was an idea in 1998 before...</td>\n      <td>current cardano price alert ada usd bitcoin bt...</td>\n      <td>NaN</td>\n    </tr>\n    <tr>\n      <th>freq</th>\n      <td>4110</td>\n      <td>703</td>\n      <td>17377</td>\n      <td>NaN</td>\n    </tr>\n    <tr>\n      <th>mean</th>\n      <td>NaN</td>\n      <td>NaN</td>\n      <td>NaN</td>\n      <td>5.801607e-01</td>\n    </tr>\n    <tr>\n      <th>std</th>\n      <td>NaN</td>\n      <td>NaN</td>\n      <td>NaN</td>\n      <td>7.665063e-01</td>\n    </tr>\n    <tr>\n      <th>min</th>\n      <td>NaN</td>\n      <td>NaN</td>\n      <td>NaN</td>\n      <td>0.000000e+00</td>\n    </tr>\n    <tr>\n      <th>25%</th>\n      <td>NaN</td>\n      <td>NaN</td>\n      <td>NaN</td>\n      <td>0.000000e+00</td>\n    </tr>\n    <tr>\n      <th>50%</th>\n      <td>NaN</td>\n      <td>NaN</td>\n      <td>NaN</td>\n      <td>0.000000e+00</td>\n    </tr>\n    <tr>\n      <th>75%</th>\n      <td>NaN</td>\n      <td>NaN</td>\n      <td>NaN</td>\n      <td>1.000000e+00</td>\n    </tr>\n    <tr>\n      <th>max</th>\n      <td>NaN</td>\n      <td>NaN</td>\n      <td>NaN</td>\n      <td>2.000000e+00</td>\n    </tr>\n  </tbody>\n</table>\n</div>"
     },
     "execution_count": 4,
     "metadata": {},
     "output_type": "execute_result"
    }
   ],
   "source": [
    "df.describe(include='all')"
   ],
   "metadata": {
    "collapsed": false,
    "ExecuteTime": {
     "end_time": "2023-11-25T03:44:41.875227Z",
     "start_time": "2023-11-25T03:44:38.832535Z"
    }
   },
   "id": "946a59a7aa6b0f04"
  },
  {
   "cell_type": "code",
   "execution_count": 5,
   "outputs": [],
   "source": [
    "df['label'] = df['label'].replace({0: 1, 1: 0, 2: -1})"
   ],
   "metadata": {
    "collapsed": false,
    "ExecuteTime": {
     "end_time": "2023-11-25T03:44:41.929558Z",
     "start_time": "2023-11-25T03:44:41.873088Z"
    }
   },
   "id": "2b03b01c0053492a"
  },
  {
   "cell_type": "code",
   "execution_count": 6,
   "outputs": [],
   "source": [
    "df['date'] = pd.to_datetime(df['date']).dt.strftime('%Y-%m-%d')"
   ],
   "metadata": {
    "collapsed": false,
    "ExecuteTime": {
     "end_time": "2023-11-25T03:44:43.109810Z",
     "start_time": "2023-11-25T03:44:41.976546Z"
    }
   },
   "id": "ceba920b7d9a8687"
  },
  {
   "cell_type": "code",
   "execution_count": 7,
   "outputs": [
    {
     "data": {
      "text/plain": "              date                                               text  \\\ncount      3540245                                            3540245   \nunique         267                                            3469981   \ntop     2022-01-22  Do you know #BMoney was an idea in 1998 before...   \nfreq         54368                                                703   \nmean           NaN                                                NaN   \nstd            NaN                                                NaN   \nmin            NaN                                                NaN   \n25%            NaN                                                NaN   \n50%            NaN                                                NaN   \n75%            NaN                                                NaN   \nmax            NaN                                                NaN   \n\n                                        hard_cleaned_text         label  \ncount                                             3540245  3.540245e+06  \nunique                                            2789269           NaN  \ntop     current cardano price alert ada usd bitcoin bt...           NaN  \nfreq                                                17377           NaN  \nmean                                                  NaN  4.198393e-01  \nstd                                                   NaN  7.665063e-01  \nmin                                                   NaN -1.000000e+00  \n25%                                                   NaN  0.000000e+00  \n50%                                                   NaN  1.000000e+00  \n75%                                                   NaN  1.000000e+00  \nmax                                                   NaN  1.000000e+00  ",
      "text/html": "<div>\n<style scoped>\n    .dataframe tbody tr th:only-of-type {\n        vertical-align: middle;\n    }\n\n    .dataframe tbody tr th {\n        vertical-align: top;\n    }\n\n    .dataframe thead th {\n        text-align: right;\n    }\n</style>\n<table border=\"1\" class=\"dataframe\">\n  <thead>\n    <tr style=\"text-align: right;\">\n      <th></th>\n      <th>date</th>\n      <th>text</th>\n      <th>hard_cleaned_text</th>\n      <th>label</th>\n    </tr>\n  </thead>\n  <tbody>\n    <tr>\n      <th>count</th>\n      <td>3540245</td>\n      <td>3540245</td>\n      <td>3540245</td>\n      <td>3.540245e+06</td>\n    </tr>\n    <tr>\n      <th>unique</th>\n      <td>267</td>\n      <td>3469981</td>\n      <td>2789269</td>\n      <td>NaN</td>\n    </tr>\n    <tr>\n      <th>top</th>\n      <td>2022-01-22</td>\n      <td>Do you know #BMoney was an idea in 1998 before...</td>\n      <td>current cardano price alert ada usd bitcoin bt...</td>\n      <td>NaN</td>\n    </tr>\n    <tr>\n      <th>freq</th>\n      <td>54368</td>\n      <td>703</td>\n      <td>17377</td>\n      <td>NaN</td>\n    </tr>\n    <tr>\n      <th>mean</th>\n      <td>NaN</td>\n      <td>NaN</td>\n      <td>NaN</td>\n      <td>4.198393e-01</td>\n    </tr>\n    <tr>\n      <th>std</th>\n      <td>NaN</td>\n      <td>NaN</td>\n      <td>NaN</td>\n      <td>7.665063e-01</td>\n    </tr>\n    <tr>\n      <th>min</th>\n      <td>NaN</td>\n      <td>NaN</td>\n      <td>NaN</td>\n      <td>-1.000000e+00</td>\n    </tr>\n    <tr>\n      <th>25%</th>\n      <td>NaN</td>\n      <td>NaN</td>\n      <td>NaN</td>\n      <td>0.000000e+00</td>\n    </tr>\n    <tr>\n      <th>50%</th>\n      <td>NaN</td>\n      <td>NaN</td>\n      <td>NaN</td>\n      <td>1.000000e+00</td>\n    </tr>\n    <tr>\n      <th>75%</th>\n      <td>NaN</td>\n      <td>NaN</td>\n      <td>NaN</td>\n      <td>1.000000e+00</td>\n    </tr>\n    <tr>\n      <th>max</th>\n      <td>NaN</td>\n      <td>NaN</td>\n      <td>NaN</td>\n      <td>1.000000e+00</td>\n    </tr>\n  </tbody>\n</table>\n</div>"
     },
     "execution_count": 7,
     "metadata": {},
     "output_type": "execute_result"
    }
   ],
   "source": [
    "df.describe(include='all')"
   ],
   "metadata": {
    "collapsed": false,
    "ExecuteTime": {
     "end_time": "2023-11-25T03:44:46.286184Z",
     "start_time": "2023-11-25T03:44:43.287328Z"
    }
   },
   "id": "5b672408fec51cc7"
  },
  {
   "cell_type": "code",
   "execution_count": 8,
   "outputs": [
    {
     "data": {
      "text/plain": "         date                                               text  \\\n0  2021-02-11  Blue Ridge Bank shares halted by NYSE after #b...   \n1  2021-02-11  😎 Today, that's this #Thursday, we will do a \"...   \n2  2021-02-11  Guys evening, I have read this article about B...   \n3  2021-02-11  $BTC A big chance in a billion! Price: \\487264...   \n4  2021-02-11  This network is secured by 9 508 nodes as of t...   \n\n                                   hard_cleaned_text  label  \n0  blue ridge bank shares halted nyse bitcoin atm...      1  \n1  today thursday take friend btc wallet security...      1  \n2  guys evening read article btc would like share...      1  \n3  btc big chance billion price bitcoin fx btc cr...      1  \n4  network secured nodes today soon biggest bears...     -1  ",
      "text/html": "<div>\n<style scoped>\n    .dataframe tbody tr th:only-of-type {\n        vertical-align: middle;\n    }\n\n    .dataframe tbody tr th {\n        vertical-align: top;\n    }\n\n    .dataframe thead th {\n        text-align: right;\n    }\n</style>\n<table border=\"1\" class=\"dataframe\">\n  <thead>\n    <tr style=\"text-align: right;\">\n      <th></th>\n      <th>date</th>\n      <th>text</th>\n      <th>hard_cleaned_text</th>\n      <th>label</th>\n    </tr>\n  </thead>\n  <tbody>\n    <tr>\n      <th>0</th>\n      <td>2021-02-11</td>\n      <td>Blue Ridge Bank shares halted by NYSE after #b...</td>\n      <td>blue ridge bank shares halted nyse bitcoin atm...</td>\n      <td>1</td>\n    </tr>\n    <tr>\n      <th>1</th>\n      <td>2021-02-11</td>\n      <td>😎 Today, that's this #Thursday, we will do a \"...</td>\n      <td>today thursday take friend btc wallet security...</td>\n      <td>1</td>\n    </tr>\n    <tr>\n      <th>2</th>\n      <td>2021-02-11</td>\n      <td>Guys evening, I have read this article about B...</td>\n      <td>guys evening read article btc would like share...</td>\n      <td>1</td>\n    </tr>\n    <tr>\n      <th>3</th>\n      <td>2021-02-11</td>\n      <td>$BTC A big chance in a billion! Price: \\487264...</td>\n      <td>btc big chance billion price bitcoin fx btc cr...</td>\n      <td>1</td>\n    </tr>\n    <tr>\n      <th>4</th>\n      <td>2021-02-11</td>\n      <td>This network is secured by 9 508 nodes as of t...</td>\n      <td>network secured nodes today soon biggest bears...</td>\n      <td>-1</td>\n    </tr>\n  </tbody>\n</table>\n</div>"
     },
     "execution_count": 8,
     "metadata": {},
     "output_type": "execute_result"
    }
   ],
   "source": [
    "df.head()"
   ],
   "metadata": {
    "collapsed": false,
    "ExecuteTime": {
     "end_time": "2023-11-25T03:44:46.286562Z",
     "start_time": "2023-11-25T03:44:46.284472Z"
    }
   },
   "id": "4a574f8b2a82f767"
  },
  {
   "cell_type": "code",
   "execution_count": 9,
   "outputs": [],
   "source": [
    "df.to_csv('balanced_twitter_btc_big_clean.csv', index=False)"
   ],
   "metadata": {
    "collapsed": false,
    "ExecuteTime": {
     "end_time": "2023-11-25T03:44:59.109034Z",
     "start_time": "2023-11-25T03:44:46.287059Z"
    }
   },
   "id": "cc37d372ec43464"
  },
  {
   "cell_type": "code",
   "execution_count": null,
   "outputs": [],
   "source": [],
   "metadata": {
    "collapsed": false
   },
   "id": "48c5d7b465e9d524"
  },
  {
   "cell_type": "code",
   "execution_count": null,
   "outputs": [],
   "source": [],
   "metadata": {
    "collapsed": false
   },
   "id": "54d7cfd4688a7236"
  },
  {
   "cell_type": "code",
   "execution_count": 13,
   "outputs": [],
   "source": [
    "from datetime import datetime\n",
    "\n",
    "start_date = datetime(2021, 2, 5)\n",
    "end_date = datetime(2023, 1, 10)\n",
    "date_range = pd.date_range(start_date, end_date)\n",
    "\n",
    "missing_dates = date_range[~date_range.isin(df['date'])]"
   ],
   "metadata": {
    "collapsed": false,
    "ExecuteTime": {
     "end_time": "2023-11-25T03:14:17.981195Z",
     "start_time": "2023-11-25T03:14:17.969416Z"
    }
   },
   "id": "dd8bc42188d1a894"
  },
  {
   "cell_type": "code",
   "execution_count": 14,
   "outputs": [
    {
     "data": {
      "text/plain": "DatetimeIndex(['2021-02-12', '2021-02-17', '2021-02-21', '2021-02-24',\n               '2021-02-25', '2021-02-26', '2021-02-27', '2021-03-02',\n               '2021-03-03', '2021-03-04',\n               ...\n               '2022-12-22', '2022-12-23', '2022-12-29', '2022-12-30',\n               '2022-12-31', '2023-01-01', '2023-01-02', '2023-01-03',\n               '2023-01-04', '2023-01-05'],\n              dtype='datetime64[ns]', length=438, freq=None)"
     },
     "execution_count": 14,
     "metadata": {},
     "output_type": "execute_result"
    }
   ],
   "source": [
    "missing_dates"
   ],
   "metadata": {
    "collapsed": false,
    "ExecuteTime": {
     "end_time": "2023-11-25T03:14:20.674383Z",
     "start_time": "2023-11-25T03:14:20.665687Z"
    }
   },
   "id": "a15547bafb285bcd"
  },
  {
   "cell_type": "code",
   "execution_count": null,
   "outputs": [],
   "source": [],
   "metadata": {
    "collapsed": false
   },
   "id": "344549193d52fd7d"
  },
  {
   "cell_type": "code",
   "execution_count": null,
   "outputs": [],
   "source": [],
   "metadata": {
    "collapsed": false
   },
   "id": "f6a0bdaed9c3c40a"
  },
  {
   "cell_type": "code",
   "execution_count": null,
   "outputs": [],
   "source": [],
   "metadata": {
    "collapsed": false
   },
   "id": "941469381d6caf20"
  },
  {
   "cell_type": "code",
   "execution_count": null,
   "outputs": [],
   "source": [],
   "metadata": {
    "collapsed": false
   },
   "id": "b1bf7ff1402a299c"
  },
  {
   "cell_type": "code",
   "execution_count": null,
   "outputs": [],
   "source": [],
   "metadata": {
    "collapsed": false
   },
   "id": "113883e0e99cc212"
  },
  {
   "cell_type": "markdown",
   "source": [
    "处理手动爬取"
   ],
   "metadata": {
    "collapsed": false
   },
   "id": "f5484a4a73948366"
  },
  {
   "cell_type": "code",
   "execution_count": 1,
   "outputs": [
    {
     "name": "stderr",
     "output_type": "stream",
     "text": [
      "[nltk_data] Downloading package punkt to /Users/jason/nltk_data...\n",
      "[nltk_data]   Package punkt is already up-to-date!\n",
      "[nltk_data] Downloading package stopwords to /Users/jason/nltk_data...\n",
      "[nltk_data]   Package stopwords is already up-to-date!\n"
     ]
    },
    {
     "data": {
      "text/plain": "True"
     },
     "execution_count": 1,
     "metadata": {},
     "output_type": "execute_result"
    }
   ],
   "source": [
    "import re\n",
    "import nltk\n",
    "from nltk.corpus import stopwords\n",
    "from nltk.stem import PorterStemmer\n",
    "\n",
    "# 下载NLTK资源（如果尚未下载）\n",
    "nltk.download('punkt')\n",
    "nltk.download('stopwords')"
   ],
   "metadata": {
    "collapsed": false,
    "ExecuteTime": {
     "end_time": "2023-11-25T03:51:42.564337Z",
     "start_time": "2023-11-25T03:51:41.065305Z"
    }
   },
   "id": "a754eea53b859025"
  },
  {
   "cell_type": "code",
   "execution_count": 2,
   "outputs": [],
   "source": [
    "def preprocess_twitter_text(text):\n",
    "    # 将文本转换为小写\n",
    "    text = text.lower()\n",
    "    # 移除链接\n",
    "    text = re.sub(r'http\\S+|www\\S+|https\\S+', '', text, flags=re.MULTILINE)\n",
    "    # 移除RT、@提及和标签（hashtags）\n",
    "    text = re.sub(r'\\@\\w+|\\#\\w+', '', text)\n",
    "    # 移除标点符号\n",
    "    text = re.sub(r'[^\\w\\s]', '', text)\n",
    "    # 移除表情符号等非ASCII字符\n",
    "    text = text.encode('ascii', 'ignore').decode('ascii')\n",
    "    \n",
    "    # 分词\n",
    "    word_list = nltk.word_tokenize(text)\n",
    "    \n",
    "    # 移除停用词\n",
    "    filtered_words = [word for word in word_list if word not in stopwords.words('english')]\n",
    "    \n",
    "    # 词干提取\n",
    "    ps = PorterStemmer()\n",
    "    stemmed_words = [ps.stem(word) for word in filtered_words]\n",
    "\n",
    "    return ' '.join(stemmed_words)"
   ],
   "metadata": {
    "collapsed": false,
    "ExecuteTime": {
     "end_time": "2023-11-25T03:52:03.652511Z",
     "start_time": "2023-11-25T03:52:03.634066Z"
    }
   },
   "id": "65d28bf09055de63"
  },
  {
   "cell_type": "code",
   "execution_count": 3,
   "outputs": [],
   "source": [
    "import pandas as pd\n",
    "\n",
    "df = pd.read_excel('combined_data_no_duplicates.xlsx')"
   ],
   "metadata": {
    "collapsed": false,
    "ExecuteTime": {
     "end_time": "2023-11-25T03:52:04.837942Z",
     "start_time": "2023-11-25T03:52:04.487814Z"
    }
   },
   "id": "8b466c94d127d154"
  },
  {
   "cell_type": "code",
   "execution_count": 4,
   "outputs": [
    {
     "data": {
      "text/plain": "   Tweet Date                                         Tweet Text\n0  2022-09-25  DO NOT MISS this opportunity to mine FREE #cry...\n1  2022-09-25  Ordered new shirts from \\n@grimesgraphics\\n wi...\n2  2022-09-25  #Binance    on display at Burj Khalifa , the t...\n3  2022-09-25  I just had another batch of shirts with the #B...\n4  2022-09-25  Nightyyy Earthersss \\n\\nBoBluRepresent:\"Dreams...",
      "text/html": "<div>\n<style scoped>\n    .dataframe tbody tr th:only-of-type {\n        vertical-align: middle;\n    }\n\n    .dataframe tbody tr th {\n        vertical-align: top;\n    }\n\n    .dataframe thead th {\n        text-align: right;\n    }\n</style>\n<table border=\"1\" class=\"dataframe\">\n  <thead>\n    <tr style=\"text-align: right;\">\n      <th></th>\n      <th>Tweet Date</th>\n      <th>Tweet Text</th>\n    </tr>\n  </thead>\n  <tbody>\n    <tr>\n      <th>0</th>\n      <td>2022-09-25</td>\n      <td>DO NOT MISS this opportunity to mine FREE #cry...</td>\n    </tr>\n    <tr>\n      <th>1</th>\n      <td>2022-09-25</td>\n      <td>Ordered new shirts from \\n@grimesgraphics\\n wi...</td>\n    </tr>\n    <tr>\n      <th>2</th>\n      <td>2022-09-25</td>\n      <td>#Binance    on display at Burj Khalifa , the t...</td>\n    </tr>\n    <tr>\n      <th>3</th>\n      <td>2022-09-25</td>\n      <td>I just had another batch of shirts with the #B...</td>\n    </tr>\n    <tr>\n      <th>4</th>\n      <td>2022-09-25</td>\n      <td>Nightyyy Earthersss \\n\\nBoBluRepresent:\"Dreams...</td>\n    </tr>\n  </tbody>\n</table>\n</div>"
     },
     "execution_count": 4,
     "metadata": {},
     "output_type": "execute_result"
    }
   ],
   "source": [
    "df.head()"
   ],
   "metadata": {
    "collapsed": false,
    "ExecuteTime": {
     "end_time": "2023-11-25T03:52:05.365585Z",
     "start_time": "2023-11-25T03:52:05.361151Z"
    }
   },
   "id": "ef9b798f6c803a63"
  },
  {
   "cell_type": "code",
   "execution_count": 5,
   "outputs": [],
   "source": [
    "df['hard_cleaned_text'] = df['Tweet Text'].apply(preprocess_twitter_text)\n",
    "df.rename(columns={'Tweet Date': 'date'}, inplace=True)\n",
    "df.rename(columns={'Tweet Text': 'text'}, inplace=True)"
   ],
   "metadata": {
    "collapsed": false,
    "ExecuteTime": {
     "end_time": "2023-11-25T03:52:10.764492Z",
     "start_time": "2023-11-25T03:52:07.317656Z"
    }
   },
   "id": "d17f323fc564adb9"
  },
  {
   "cell_type": "code",
   "execution_count": 6,
   "outputs": [
    {
     "data": {
      "text/plain": "         date                                               text  \\\n0  2022-09-25  DO NOT MISS this opportunity to mine FREE #cry...   \n1  2022-09-25  Ordered new shirts from \\n@grimesgraphics\\n wi...   \n2  2022-09-25  #Binance    on display at Burj Khalifa , the t...   \n3  2022-09-25  I just had another batch of shirts with the #B...   \n4  2022-09-25  Nightyyy Earthersss \\n\\nBoBluRepresent:\"Dreams...   \n\n                                   hard_cleaned_text  \n0  miss opportun mine free worldwid prelaunch pi ...  \n1                               order new shirt logo  \n2  display burj khalifa tallest build world giant...  \n3     anoth batch shirt logo send shirt embroid also  \n4  nightyyi earthersss boblurepresentdream realit...  ",
      "text/html": "<div>\n<style scoped>\n    .dataframe tbody tr th:only-of-type {\n        vertical-align: middle;\n    }\n\n    .dataframe tbody tr th {\n        vertical-align: top;\n    }\n\n    .dataframe thead th {\n        text-align: right;\n    }\n</style>\n<table border=\"1\" class=\"dataframe\">\n  <thead>\n    <tr style=\"text-align: right;\">\n      <th></th>\n      <th>date</th>\n      <th>text</th>\n      <th>hard_cleaned_text</th>\n    </tr>\n  </thead>\n  <tbody>\n    <tr>\n      <th>0</th>\n      <td>2022-09-25</td>\n      <td>DO NOT MISS this opportunity to mine FREE #cry...</td>\n      <td>miss opportun mine free worldwid prelaunch pi ...</td>\n    </tr>\n    <tr>\n      <th>1</th>\n      <td>2022-09-25</td>\n      <td>Ordered new shirts from \\n@grimesgraphics\\n wi...</td>\n      <td>order new shirt logo</td>\n    </tr>\n    <tr>\n      <th>2</th>\n      <td>2022-09-25</td>\n      <td>#Binance    on display at Burj Khalifa , the t...</td>\n      <td>display burj khalifa tallest build world giant...</td>\n    </tr>\n    <tr>\n      <th>3</th>\n      <td>2022-09-25</td>\n      <td>I just had another batch of shirts with the #B...</td>\n      <td>anoth batch shirt logo send shirt embroid also</td>\n    </tr>\n    <tr>\n      <th>4</th>\n      <td>2022-09-25</td>\n      <td>Nightyyy Earthersss \\n\\nBoBluRepresent:\"Dreams...</td>\n      <td>nightyyi earthersss boblurepresentdream realit...</td>\n    </tr>\n  </tbody>\n</table>\n</div>"
     },
     "execution_count": 6,
     "metadata": {},
     "output_type": "execute_result"
    }
   ],
   "source": [
    "df.head()"
   ],
   "metadata": {
    "collapsed": false,
    "ExecuteTime": {
     "end_time": "2023-11-25T03:52:10.768418Z",
     "start_time": "2023-11-25T03:52:10.766276Z"
    }
   },
   "id": "c48a70c413913f7f"
  },
  {
   "cell_type": "code",
   "execution_count": 8,
   "outputs": [
    {
     "data": {
      "text/plain": "date                 0\ntext                 0\nhard_cleaned_text    0\ndtype: int64"
     },
     "execution_count": 8,
     "metadata": {},
     "output_type": "execute_result"
    }
   ],
   "source": [
    "# 查看缺失值\n",
    "df.isnull().sum()"
   ],
   "metadata": {
    "collapsed": false,
    "ExecuteTime": {
     "end_time": "2023-11-25T03:59:14.215780Z",
     "start_time": "2023-11-25T03:59:14.209053Z"
    }
   },
   "id": "836b2d3e6cd9ec65"
  },
  {
   "cell_type": "code",
   "execution_count": 7,
   "outputs": [],
   "source": [
    "df.to_csv('combined_data_no_duplicates_clean.csv', index=False)"
   ],
   "metadata": {
    "collapsed": false,
    "ExecuteTime": {
     "end_time": "2023-11-25T03:53:09.103570Z",
     "start_time": "2023-11-25T03:53:09.071794Z"
    }
   },
   "id": "6b532e9c20723800"
  },
  {
   "cell_type": "code",
   "execution_count": null,
   "outputs": [],
   "source": [],
   "metadata": {
    "collapsed": false
   },
   "id": "a9507ed23e3095c"
  }
 ],
 "metadata": {
  "kernelspec": {
   "display_name": "Python 3",
   "language": "python",
   "name": "python3"
  },
  "language_info": {
   "codemirror_mode": {
    "name": "ipython",
    "version": 2
   },
   "file_extension": ".py",
   "mimetype": "text/x-python",
   "name": "python",
   "nbconvert_exporter": "python",
   "pygments_lexer": "ipython2",
   "version": "2.7.6"
  }
 },
 "nbformat": 4,
 "nbformat_minor": 5
}
