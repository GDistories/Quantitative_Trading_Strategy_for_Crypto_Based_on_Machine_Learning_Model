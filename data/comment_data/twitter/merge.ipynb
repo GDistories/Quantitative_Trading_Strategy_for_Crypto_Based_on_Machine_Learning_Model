{
 "cells": [
  {
   "cell_type": "code",
   "execution_count": 3,
   "outputs": [
    {
     "data": {
      "text/plain": "DatetimeIndex(['2021-02-05', '2021-02-12', '2021-02-13', '2021-02-17',\n               '2021-02-18', '2021-02-21', '2021-02-22', '2021-02-24',\n               '2021-02-25', '2021-02-26',\n               ...\n               '2022-12-24', '2022-12-29', '2022-12-30', '2022-12-31',\n               '2023-01-01', '2023-01-02', '2023-01-03', '2023-01-04',\n               '2023-01-05', '2023-01-06'],\n              dtype='datetime64[ns]', length=488, freq=None)"
     },
     "execution_count": 3,
     "metadata": {},
     "output_type": "execute_result"
    }
   ],
   "source": [
    "from datetime import datetime\n",
    "import pandas as pd\n",
    "\n",
    "df = pd.read_csv('../comment_data/data/balanced_twitter_btc_big.csv', lineterminator='\\n')\n",
    "df['date'] = pd.to_datetime(df['date'])\n",
    "\n",
    "start_date = datetime(2021, 2, 5)\n",
    "end_date = datetime(2023, 1, 10)\n",
    "date_range = pd.date_range(start_date, end_date)\n",
    "\n",
    "missing_dates = date_range[~date_range.isin(df['date'])]\n",
    "missing_dates"
   ],
   "metadata": {
    "collapsed": false,
    "ExecuteTime": {
     "end_time": "2023-11-25T00:57:47.528677Z",
     "start_time": "2023-11-25T00:57:30.705693Z"
    }
   },
   "id": "1bf3634f4ea4e2b"
  },
  {
   "cell_type": "code",
   "execution_count": 4,
   "id": "initial_id",
   "metadata": {
    "collapsed": true,
    "ExecuteTime": {
     "end_time": "2023-11-25T03:45:51.494643Z",
     "start_time": "2023-11-25T03:45:51.159681Z"
    }
   },
   "outputs": [
    {
     "name": "stdout",
     "output_type": "stream",
     "text": [
      "Part_9.xlsx\n",
      "Part_15.xlsx\n",
      "Part_5.xlsx\n",
      "Part_4.xlsx\n",
      "Part_14.xlsx\n",
      "Part_8.xlsx\n",
      "Part_18.xlsx\n",
      "Part_13.xlsx\n",
      "Part_3.xlsx\n",
      "Part_2.xlsx\n",
      "Part_12.xlsx\n",
      "Part_1.xlsx\n",
      "Part_11.xlsx\n",
      "Part_10.xlsx\n",
      "Part_7.xlsx\n",
      "Part_17.xlsx\n",
      "Part_16.xlsx\n",
      "Part_6.xlsx\n",
      "   Unnamed: 0  Tweet Date                                         Tweet Text\n",
      "0           0  2022-09-25  DO NOT MISS this opportunity to mine FREE #cry...\n",
      "1           1  2022-09-25  Ordered new shirts from \\n@grimesgraphics\\n wi...\n",
      "2           2  2022-09-25  #Binance    on display at Burj Khalifa , the t...\n",
      "3           3  2022-09-25  I just had another batch of shirts with the #B...\n",
      "4           4  2022-09-25  Nightyyy Earthersss \\n\\nBoBluRepresent:\"Dreams...\n"
     ]
    },
    {
     "name": "stderr",
     "output_type": "stream",
     "text": [
      "/var/folders/n7/7084b4k93jb_r5psql_6_sjh0000gn/T/ipykernel_63628/2056801074.py:18: FutureWarning: The frame.append method is deprecated and will be removed from pandas in a future version. Use pandas.concat instead.\n",
      "  combined_df = combined_df.append(df, ignore_index=True)\n",
      "/var/folders/n7/7084b4k93jb_r5psql_6_sjh0000gn/T/ipykernel_63628/2056801074.py:18: FutureWarning: The frame.append method is deprecated and will be removed from pandas in a future version. Use pandas.concat instead.\n",
      "  combined_df = combined_df.append(df, ignore_index=True)\n",
      "/var/folders/n7/7084b4k93jb_r5psql_6_sjh0000gn/T/ipykernel_63628/2056801074.py:18: FutureWarning: The frame.append method is deprecated and will be removed from pandas in a future version. Use pandas.concat instead.\n",
      "  combined_df = combined_df.append(df, ignore_index=True)\n",
      "/var/folders/n7/7084b4k93jb_r5psql_6_sjh0000gn/T/ipykernel_63628/2056801074.py:18: FutureWarning: The frame.append method is deprecated and will be removed from pandas in a future version. Use pandas.concat instead.\n",
      "  combined_df = combined_df.append(df, ignore_index=True)\n",
      "/var/folders/n7/7084b4k93jb_r5psql_6_sjh0000gn/T/ipykernel_63628/2056801074.py:18: FutureWarning: The frame.append method is deprecated and will be removed from pandas in a future version. Use pandas.concat instead.\n",
      "  combined_df = combined_df.append(df, ignore_index=True)\n",
      "/var/folders/n7/7084b4k93jb_r5psql_6_sjh0000gn/T/ipykernel_63628/2056801074.py:18: FutureWarning: The frame.append method is deprecated and will be removed from pandas in a future version. Use pandas.concat instead.\n",
      "  combined_df = combined_df.append(df, ignore_index=True)\n",
      "/var/folders/n7/7084b4k93jb_r5psql_6_sjh0000gn/T/ipykernel_63628/2056801074.py:18: FutureWarning: The frame.append method is deprecated and will be removed from pandas in a future version. Use pandas.concat instead.\n",
      "  combined_df = combined_df.append(df, ignore_index=True)\n",
      "/var/folders/n7/7084b4k93jb_r5psql_6_sjh0000gn/T/ipykernel_63628/2056801074.py:18: FutureWarning: The frame.append method is deprecated and will be removed from pandas in a future version. Use pandas.concat instead.\n",
      "  combined_df = combined_df.append(df, ignore_index=True)\n",
      "/var/folders/n7/7084b4k93jb_r5psql_6_sjh0000gn/T/ipykernel_63628/2056801074.py:18: FutureWarning: The frame.append method is deprecated and will be removed from pandas in a future version. Use pandas.concat instead.\n",
      "  combined_df = combined_df.append(df, ignore_index=True)\n",
      "/var/folders/n7/7084b4k93jb_r5psql_6_sjh0000gn/T/ipykernel_63628/2056801074.py:18: FutureWarning: The frame.append method is deprecated and will be removed from pandas in a future version. Use pandas.concat instead.\n",
      "  combined_df = combined_df.append(df, ignore_index=True)\n",
      "/var/folders/n7/7084b4k93jb_r5psql_6_sjh0000gn/T/ipykernel_63628/2056801074.py:18: FutureWarning: The frame.append method is deprecated and will be removed from pandas in a future version. Use pandas.concat instead.\n",
      "  combined_df = combined_df.append(df, ignore_index=True)\n",
      "/var/folders/n7/7084b4k93jb_r5psql_6_sjh0000gn/T/ipykernel_63628/2056801074.py:18: FutureWarning: The frame.append method is deprecated and will be removed from pandas in a future version. Use pandas.concat instead.\n",
      "  combined_df = combined_df.append(df, ignore_index=True)\n",
      "/var/folders/n7/7084b4k93jb_r5psql_6_sjh0000gn/T/ipykernel_63628/2056801074.py:18: FutureWarning: The frame.append method is deprecated and will be removed from pandas in a future version. Use pandas.concat instead.\n",
      "  combined_df = combined_df.append(df, ignore_index=True)\n",
      "/var/folders/n7/7084b4k93jb_r5psql_6_sjh0000gn/T/ipykernel_63628/2056801074.py:18: FutureWarning: The frame.append method is deprecated and will be removed from pandas in a future version. Use pandas.concat instead.\n",
      "  combined_df = combined_df.append(df, ignore_index=True)\n",
      "/var/folders/n7/7084b4k93jb_r5psql_6_sjh0000gn/T/ipykernel_63628/2056801074.py:18: FutureWarning: The frame.append method is deprecated and will be removed from pandas in a future version. Use pandas.concat instead.\n",
      "  combined_df = combined_df.append(df, ignore_index=True)\n",
      "/var/folders/n7/7084b4k93jb_r5psql_6_sjh0000gn/T/ipykernel_63628/2056801074.py:18: FutureWarning: The frame.append method is deprecated and will be removed from pandas in a future version. Use pandas.concat instead.\n",
      "  combined_df = combined_df.append(df, ignore_index=True)\n",
      "/var/folders/n7/7084b4k93jb_r5psql_6_sjh0000gn/T/ipykernel_63628/2056801074.py:18: FutureWarning: The frame.append method is deprecated and will be removed from pandas in a future version. Use pandas.concat instead.\n",
      "  combined_df = combined_df.append(df, ignore_index=True)\n",
      "/var/folders/n7/7084b4k93jb_r5psql_6_sjh0000gn/T/ipykernel_63628/2056801074.py:18: FutureWarning: The frame.append method is deprecated and will be removed from pandas in a future version. Use pandas.concat instead.\n",
      "  combined_df = combined_df.append(df, ignore_index=True)\n"
     ]
    }
   ],
   "source": [
    "import pandas as pd\n",
    "import os\n",
    "\n",
    "# 设定文件夹路径，这里假设所有文件都在同一个文件夹下\n",
    "folder_path = '../twitter'\n",
    "\n",
    "# 获取所有xlsx文件的列表\n",
    "file_list = [file for file in os.listdir(folder_path) if file.endswith('.xlsx')]\n",
    "\n",
    "# 初始化空的DataFrame用于存储合并后的数据\n",
    "combined_df = pd.DataFrame()\n",
    "\n",
    "# 遍历文件列表，读取每个文件并合并到combined_df中\n",
    "for file in file_list:\n",
    "    print(file)\n",
    "    file_path = os.path.join(folder_path, file)\n",
    "    df = pd.read_excel(file_path)\n",
    "    combined_df = combined_df.append(df, ignore_index=True)\n",
    "\n",
    "# 去除'Tweet Text'列中的重复项\n",
    "combined_df.drop_duplicates(subset=['Tweet Text'], inplace=True)\n",
    "\n",
    "# 查看合并并去重后的数据\n",
    "print(combined_df.head())\n",
    "\n",
    "# 如果需要，可以将合并后的数据保存为新的Excel文件\n",
    "combined_df.to_excel('combined_data_no_duplicates.xlsx', index=False)\n"
   ]
  },
  {
   "cell_type": "code",
   "execution_count": 2,
   "outputs": [
    {
     "data": {
      "text/plain": "0    2022-04-25\n1    2022-08-09\n2    2022-04-27\n3    2022-09-23\n4    2021-05-15\n5    2021-10-26\n6    2022-09-20\n7    2022-09-19\n8    2022-08-17\ndtype: object"
     },
     "execution_count": 2,
     "metadata": {},
     "output_type": "execute_result"
    }
   ],
   "source": [
    "import pandas as pd\n",
    "\n",
    "# 读取缺失日期列表\n",
    "missing_dates = pd.read_csv('missing_dates.csv', header=None, names=['Dates'])\n",
    "missing_dates['Dates'] = pd.to_datetime(missing_dates['Dates'])\n",
    "\n",
    "# 计算combined_df中每个日期的Tweet数量\n",
    "tweet_counts = combined_df['Tweet Date'].value_counts()\n",
    "\n",
    "# 找出Tweet数量少于10的日期\n",
    "few_tweets_dates = tweet_counts[tweet_counts < 10].index\n",
    "\n",
    "# 将Index转换为Series\n",
    "few_tweets_dates_series = pd.Series(few_tweets_dates)\n",
    "\n",
    "# 找出存在于missing_dates但不在combined_df的Tweet Date中的日期\n",
    "not_in_combined_dates = missing_dates[~missing_dates['Dates'].isin(combined_df['Tweet Date'])]\n",
    "\n",
    "# 合并并去除重复项\n",
    "final_dates = pd.concat([few_tweets_dates_series, not_in_combined_dates['Dates']]).drop_duplicates()\n",
    "\n",
    "final_dates.to_csv('remaining_dates.csv', index=False)\n",
    "# 查看最终日期列表\n",
    "final_dates"
   ],
   "metadata": {
    "collapsed": false,
    "ExecuteTime": {
     "end_time": "2023-11-25T03:45:26.434441Z",
     "start_time": "2023-11-25T03:45:26.418630Z"
    }
   },
   "id": "ddcd3da43f4b52a1"
  },
  {
   "cell_type": "code",
   "execution_count": 3,
   "outputs": [
    {
     "data": {
      "text/plain": "2022-04-25    9\n2022-08-09    9\n2022-04-27    9\n2022-09-23    9\n2021-05-15    9\n2021-10-26    9\n2022-09-20    9\n2022-09-19    9\n2022-08-17    9\nName: Tweet Date, dtype: int64"
     },
     "execution_count": 3,
     "metadata": {},
     "output_type": "execute_result"
    }
   ],
   "source": [
    "tweet_counts[tweet_counts < 10]"
   ],
   "metadata": {
    "collapsed": false,
    "ExecuteTime": {
     "end_time": "2023-11-25T03:45:28.769253Z",
     "start_time": "2023-11-25T03:45:28.763951Z"
    }
   },
   "id": "eea578a285c976bc"
  },
  {
   "cell_type": "code",
   "execution_count": 18,
   "outputs": [
    {
     "data": {
      "text/plain": "Index(['2021-05-15', '2022-09-10', '2022-09-19', '2022-09-20', '2022-09-23',\n       '2022-04-27', '2021-03-22', '2022-08-09', '2022-08-21', '2022-09-24',\n       ...\n       '2022-01-25', '2022-01-24', '2022-01-19', '2022-01-18', '2022-01-17',\n       '2021-06-09', '2022-06-22', '2021-06-12', '2022-06-28', '2021-08-12'],\n      dtype='object', length=139)"
     },
     "execution_count": 18,
     "metadata": {},
     "output_type": "execute_result"
    }
   ],
   "source": [
    "few_tweets_dates"
   ],
   "metadata": {
    "collapsed": false,
    "ExecuteTime": {
     "end_time": "2023-11-25T01:11:11.312749Z",
     "start_time": "2023-11-25T01:11:11.303089Z"
    }
   },
   "id": "5afbc601e5f3d882"
  },
  {
   "cell_type": "code",
   "execution_count": 34,
   "outputs": [
    {
     "data": {
      "text/plain": "   Unnamed: 0  Tweet Date                                         Tweet Text\n0           0  2022-04-24  #Neko $Neko will blow up in the next days dont...\n1           1  2022-04-24  Do you knew this trick ?  \\nimage : shuttersto...\n2           2  2022-04-24  Check out my NFT listing on OpenSea! https://o...\n3           3  2022-04-24  #Bitcoin barely hanging onto technical support...\n4           4  2022-04-24  I'm at a bachelor's party and when I brought u...",
      "text/html": "<div>\n<style scoped>\n    .dataframe tbody tr th:only-of-type {\n        vertical-align: middle;\n    }\n\n    .dataframe tbody tr th {\n        vertical-align: top;\n    }\n\n    .dataframe thead th {\n        text-align: right;\n    }\n</style>\n<table border=\"1\" class=\"dataframe\">\n  <thead>\n    <tr style=\"text-align: right;\">\n      <th></th>\n      <th>Unnamed: 0</th>\n      <th>Tweet Date</th>\n      <th>Tweet Text</th>\n    </tr>\n  </thead>\n  <tbody>\n    <tr>\n      <th>0</th>\n      <td>0</td>\n      <td>2022-04-24</td>\n      <td>#Neko $Neko will blow up in the next days dont...</td>\n    </tr>\n    <tr>\n      <th>1</th>\n      <td>1</td>\n      <td>2022-04-24</td>\n      <td>Do you knew this trick ?  \\nimage : shuttersto...</td>\n    </tr>\n    <tr>\n      <th>2</th>\n      <td>2</td>\n      <td>2022-04-24</td>\n      <td>Check out my NFT listing on OpenSea! https://o...</td>\n    </tr>\n    <tr>\n      <th>3</th>\n      <td>3</td>\n      <td>2022-04-24</td>\n      <td>#Bitcoin barely hanging onto technical support...</td>\n    </tr>\n    <tr>\n      <th>4</th>\n      <td>4</td>\n      <td>2022-04-24</td>\n      <td>I'm at a bachelor's party and when I brought u...</td>\n    </tr>\n  </tbody>\n</table>\n</div>"
     },
     "execution_count": 34,
     "metadata": {},
     "output_type": "execute_result"
    }
   ],
   "source": [
    "df.head()"
   ],
   "metadata": {
    "collapsed": false,
    "ExecuteTime": {
     "end_time": "2023-11-25T01:56:27.606246Z",
     "start_time": "2023-11-25T01:56:27.592103Z"
    }
   },
   "id": "4caa4aa2785ac1b1"
  },
  {
   "cell_type": "code",
   "execution_count": null,
   "outputs": [],
   "source": [],
   "metadata": {
    "collapsed": false
   },
   "id": "3b53626e025bd012"
  }
 ],
 "metadata": {
  "kernelspec": {
   "display_name": "Python 3",
   "language": "python",
   "name": "python3"
  },
  "language_info": {
   "codemirror_mode": {
    "name": "ipython",
    "version": 2
   },
   "file_extension": ".py",
   "mimetype": "text/x-python",
   "name": "python",
   "nbconvert_exporter": "python",
   "pygments_lexer": "ipython2",
   "version": "2.7.6"
  }
 },
 "nbformat": 4,
 "nbformat_minor": 5
}
