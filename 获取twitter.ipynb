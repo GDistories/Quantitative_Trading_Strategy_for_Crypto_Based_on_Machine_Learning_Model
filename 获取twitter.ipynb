{
 "cells": [
  {
   "cell_type": "markdown",
   "source": [
    "先运行第一部分，保存下cookie"
   ],
   "metadata": {
    "collapsed": false
   },
   "id": "1b7e1805a327ad75"
  },
  {
   "cell_type": "code",
   "execution_count": null,
   "outputs": [],
   "source": [
    "import json\n",
    "from selenium import webdriver\n",
    "\n",
    "driver = webdriver.Chrome()\n",
    "driver.get(\"https://www.twitter.com/login\")\n",
    "\n",
    "# 等待手动登录\n",
    "input(\"请在浏览器中手动登录，然后在这里按回车继续...\")\n",
    "\n",
    "# 保存Cookie到文件\n",
    "with open(\"twitter_cookies.json\", \"w\") as file:\n",
    "    json.dump(driver.get_cookies(), file)\n",
    "\n",
    "driver.quit()\n"
   ],
   "metadata": {
    "collapsed": false
   },
   "id": "f954b979ca3a053f"
  },
  {
   "cell_type": "markdown",
   "source": [
    "从下面的部分开始，只要报错，就重启Jupyter内核，然后从下面的代码开始运行。注意，df.to_excel('Part_2.xlsx')中的名字需要切换"
   ],
   "metadata": {
    "collapsed": false
   },
   "id": "6e9f118a3cd4c77b"
  },
  {
   "cell_type": "code",
   "execution_count": 1,
   "id": "initial_id",
   "metadata": {
    "collapsed": true,
    "ExecuteTime": {
     "end_time": "2023-11-25T03:45:06.914715Z",
     "start_time": "2023-11-25T03:40:09.539545Z"
    }
   },
   "outputs": [
    {
     "name": "stdout",
     "output_type": "stream",
     "text": [
      "Start 2022-09-23\n",
      "Remain:9\n",
      "start_count: 3\n",
      "end_count: 13\n",
      "Successfully for2022-09-23 00:00:00\n",
      "Start 2022-08-09\n",
      "Remain:8\n",
      "start_count: 5\n",
      "end_count: 11\n",
      "Successfully for2022-08-09 00:00:00\n",
      "Start 2022-04-27\n",
      "Remain:7\n",
      "start_count: 7\n",
      "end_count: 12\n",
      "Successfully for2022-04-27 00:00:00\n",
      "Start 2022-11-07\n",
      "Remain:6\n",
      "start_count: 6\n",
      "end_count: 15\n",
      "Successfully for2022-11-07 00:00:00\n",
      "Start 2022-09-20\n",
      "Remain:5\n",
      "start_count: 5\n",
      "end_count: 11\n",
      "Successfully for2022-09-20 00:00:00\n",
      "Start 2022-09-19\n",
      "Remain:4\n",
      "start_count: 5\n",
      "end_count: 14\n",
      "Successfully for2022-09-19 00:00:00\n",
      "Start 2021-10-26\n",
      "Remain:3\n",
      "start_count: 4\n",
      "end_count: 11\n",
      "Successfully for2021-10-26 00:00:00\n",
      "Start 2023-01-04\n",
      "Remain:2\n",
      "start_count: 5\n",
      "end_count: 13\n",
      "Successfully for2023-01-04 00:00:00\n",
      "Start 2021-05-15\n",
      "Remain:1\n",
      "start_count: 9\n",
      "end_count: 10\n",
      "Successfully for2021-05-15 00:00:00\n"
     ]
    }
   ],
   "source": [
    "import time\n",
    "from selenium import webdriver\n",
    "import json\n",
    "import pandas as pd\n",
    "from selenium.webdriver.common.by import By\n",
    "from selenium.webdriver.support.ui import WebDriverWait\n",
    "from selenium.webdriver.support import expected_conditions as EC\n",
    "\n",
    "# 设置WebDriver\n",
    "driver = webdriver.Chrome()\n",
    "\n",
    "driver.get(\"https://www.twitter.com\")\n",
    "\n",
    "# 从文件加载Cookie\n",
    "with open(\"twitter_cookies.json\", \"r\") as file:\n",
    "    cookies = json.load(file)\n",
    "    for cookie in cookies:\n",
    "        driver.add_cookie(cookie)\n",
    "\n",
    "# 初始化DataFrame\n",
    "df = pd.DataFrame(columns=['Tweet Date', 'Tweet Text'])\n",
    "\n",
    "# remaining_dates = missing_dates.copy()\n",
    "remaining_dates_df = pd.read_csv('remaining_dates.csv')\n",
    "remaining_dates = pd.DatetimeIndex(remaining_dates_df.iloc[:,0])\n",
    "\n",
    "# 遍历日期\n",
    "for current_date in remaining_dates:\n",
    "    until = current_date.strftime('%Y-%m-%d')\n",
    "    since = (current_date - pd.Timedelta(days=1)).strftime('%Y-%m-%d')\n",
    "    print(\"Start \" + str(until))\n",
    "    print(\"Remain:\" + str(len(remaining_dates)))\n",
    "    # 构建并访问URL\n",
    "    url = f\"https://twitter.com/search?f=top&q=(%23Bitcoin)%20lang%3Aen%20until%3A{until}%20since%3A{since}&src=typed_query\"\n",
    "    driver.get(url)\n",
    "\n",
    "    # 初始化WebDriverWait对象\n",
    "    wait = WebDriverWait(driver, 100)\n",
    "    wait.until(EC.presence_of_element_located((By.XPATH, '//article[@data-testid=\"tweet\"]')))\n",
    "\n",
    "    max_scrolls = 2  # 设置一个最大滚动次数\n",
    "    scroll_count = 0  # 初始化滚动计数器\n",
    "\n",
    "    # 模拟滚动以加载更多推文\n",
    "    while True:\n",
    "        # 当前推文数量\n",
    "        start_count = len(driver.find_elements(By.XPATH, '//article[@data-testid=\"tweet\"]'))\n",
    "        print(\"start_count:\", start_count)\n",
    "\n",
    "        # 滚动到页面底部\n",
    "        driver.execute_script(\"window.scrollTo(0, document.body.scrollHeight);\")\n",
    "\n",
    "        # 短暂等待页面加载更多推文\n",
    "        time.sleep(10)  # 等待3秒\n",
    "\n",
    "        # 再次检查推文数量\n",
    "        end_count = len(driver.find_elements(By.XPATH, '//article[@data-testid=\"tweet\"]'))\n",
    "        print(\"end_count:\", end_count)\n",
    "\n",
    "        if end_count == start_count:\n",
    "            scroll_count += 1\n",
    "\n",
    "        # 如果已加载的推文数量达到或超过10条，或滚动次数达到最大值，则停止滚动\n",
    "        if end_count >= 10 or scroll_count >= max_scrolls:\n",
    "            break\n",
    "    \n",
    "    if start_count <3:\n",
    "        break\n",
    "    \n",
    "    if end_count < 10:\n",
    "        continue\n",
    "        \n",
    "    # 提取推文和链接\n",
    "    tweet_elements = driver.find_elements(By.XPATH, '//article[@data-testid=\"tweet\"]')\n",
    "    for tweet_element in tweet_elements[:10]:  # 获取前10条推文\n",
    "        try:\n",
    "            tweet_text = tweet_element.find_element(By.XPATH, './/div[@data-testid=\"tweetText\"]').text\n",
    "            # 创建一个新的DataFrame来存储这一行数据\n",
    "            new_row = pd.DataFrame({'Tweet Date': [current_date.strftime('%Y-%m-%d')], 'Tweet Text': [tweet_text]})\n",
    "            # 使用concat合并新的DataFrame\n",
    "            df = pd.concat([df, new_row], ignore_index=True)\n",
    "        except Exception as e:\n",
    "            print(\"Error extracting tweet:\", e)\n",
    "\n",
    "    print(\"Successfully for\" + str(current_date))\n",
    "    remaining_dates = remaining_dates.drop(current_date)\n",
    "    time.sleep(20)\n",
    "\n",
    "# 关闭WebDriver\n",
    "driver.quit()"
   ]
  },
  {
   "cell_type": "code",
   "execution_count": 2,
   "outputs": [
    {
     "data": {
      "text/plain": "    Tweet Date                                         Tweet Text\n0   2022-09-23  Josealfredo found #bitcoin in a White vault at...\n1   2022-09-23   Save your money while you still can.\\n\\n#Bitcoin\n2   2022-09-23  WATCH: Get ready for the panic of your life be...\n3   2022-09-23  http://METASECURITY.IN\\n\\nPremium #Domainname ...\n4   2022-09-23  There's an awful lot of people around the worl...\n..         ...                                                ...\n85  2021-05-15  #Bitcoin is our best shot at clawing back some...\n86  2021-05-15  So \\n@elonmusk\\n liked multiple tweets on this...\n87  2021-05-15  #Bitcoin linear chart\\nNext stop above 100K\\n@...\n88  2021-05-15  Can see the crypto ecosystem reaching that lev...\n89  2021-05-15  Future Saint (#3)\\n\\nhttps://opensea.io/collec...\n\n[90 rows x 2 columns]",
      "text/html": "<div>\n<style scoped>\n    .dataframe tbody tr th:only-of-type {\n        vertical-align: middle;\n    }\n\n    .dataframe tbody tr th {\n        vertical-align: top;\n    }\n\n    .dataframe thead th {\n        text-align: right;\n    }\n</style>\n<table border=\"1\" class=\"dataframe\">\n  <thead>\n    <tr style=\"text-align: right;\">\n      <th></th>\n      <th>Tweet Date</th>\n      <th>Tweet Text</th>\n    </tr>\n  </thead>\n  <tbody>\n    <tr>\n      <th>0</th>\n      <td>2022-09-23</td>\n      <td>Josealfredo found #bitcoin in a White vault at...</td>\n    </tr>\n    <tr>\n      <th>1</th>\n      <td>2022-09-23</td>\n      <td>Save your money while you still can.\\n\\n#Bitcoin</td>\n    </tr>\n    <tr>\n      <th>2</th>\n      <td>2022-09-23</td>\n      <td>WATCH: Get ready for the panic of your life be...</td>\n    </tr>\n    <tr>\n      <th>3</th>\n      <td>2022-09-23</td>\n      <td>http://METASECURITY.IN\\n\\nPremium #Domainname ...</td>\n    </tr>\n    <tr>\n      <th>4</th>\n      <td>2022-09-23</td>\n      <td>There's an awful lot of people around the worl...</td>\n    </tr>\n    <tr>\n      <th>...</th>\n      <td>...</td>\n      <td>...</td>\n    </tr>\n    <tr>\n      <th>85</th>\n      <td>2021-05-15</td>\n      <td>#Bitcoin is our best shot at clawing back some...</td>\n    </tr>\n    <tr>\n      <th>86</th>\n      <td>2021-05-15</td>\n      <td>So \\n@elonmusk\\n liked multiple tweets on this...</td>\n    </tr>\n    <tr>\n      <th>87</th>\n      <td>2021-05-15</td>\n      <td>#Bitcoin linear chart\\nNext stop above 100K\\n@...</td>\n    </tr>\n    <tr>\n      <th>88</th>\n      <td>2021-05-15</td>\n      <td>Can see the crypto ecosystem reaching that lev...</td>\n    </tr>\n    <tr>\n      <th>89</th>\n      <td>2021-05-15</td>\n      <td>Future Saint (#3)\\n\\nhttps://opensea.io/collec...</td>\n    </tr>\n  </tbody>\n</table>\n<p>90 rows × 2 columns</p>\n</div>"
     },
     "execution_count": 2,
     "metadata": {},
     "output_type": "execute_result"
    }
   ],
   "source": [
    "df"
   ],
   "metadata": {
    "collapsed": false,
    "ExecuteTime": {
     "end_time": "2023-11-25T03:45:06.923475Z",
     "start_time": "2023-11-25T03:45:06.916973Z"
    }
   },
   "id": "7095383238d1f144"
  },
  {
   "cell_type": "code",
   "execution_count": 3,
   "outputs": [],
   "source": [
    "df.to_excel('Part_18.xlsx')"
   ],
   "metadata": {
    "collapsed": false,
    "ExecuteTime": {
     "end_time": "2023-11-25T03:45:07.031986Z",
     "start_time": "2023-11-25T03:45:06.922505Z"
    }
   },
   "id": "dc5d379a16643bf2"
  },
  {
   "cell_type": "code",
   "execution_count": 4,
   "outputs": [],
   "source": [
    "remaining_dates.to_series().to_csv('remaining_dates.csv', index=False)"
   ],
   "metadata": {
    "collapsed": false,
    "ExecuteTime": {
     "end_time": "2023-11-25T03:45:07.035593Z",
     "start_time": "2023-11-25T03:45:07.033447Z"
    }
   },
   "id": "81eda52d9bf8e344"
  },
  {
   "cell_type": "code",
   "execution_count": null,
   "outputs": [],
   "source": [],
   "metadata": {
    "collapsed": false
   },
   "id": "fc2cebb08f49f939"
  }
 ],
 "metadata": {
  "kernelspec": {
   "display_name": "Python 3",
   "language": "python",
   "name": "python3"
  },
  "language_info": {
   "codemirror_mode": {
    "name": "ipython",
    "version": 2
   },
   "file_extension": ".py",
   "mimetype": "text/x-python",
   "name": "python",
   "nbconvert_exporter": "python",
   "pygments_lexer": "ipython2",
   "version": "2.7.6"
  }
 },
 "nbformat": 4,
 "nbformat_minor": 5
}
